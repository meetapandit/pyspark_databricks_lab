{
 "cells": [
  {
   "cell_type": "code",
   "execution_count": 0,
   "metadata": {
    "application/vnd.databricks.v1+cell": {
     "cellMetadata": {
      "byteLimit": 2048000,
      "rowLimit": 10000
     },
     "inputWidgets": {},
     "nuid": "e922643b-7ae0-45df-9852-718f31ce5944",
     "showTitle": false,
     "title": ""
    }
   },
   "outputs": [],
   "source": [
    "import findspark\n",
    "findspark.init()\n",
    "import pyspark\n",
    "from pyspark.sql import SparkSession\n",
    "spark = SparkSession.builder.getOrCreate()\n",
    "from pyspark.sql.functions import *\n",
    "from pyspark.sql.functions import filter\n",
    "from pyspark.sql.types import *"
   ]
  },
  {
   "cell_type": "markdown",
   "metadata": {
    "application/vnd.databricks.v1+cell": {
     "cellMetadata": {},
     "inputWidgets": {},
     "nuid": "47056c83-3de6-4a74-8b0c-dcccf0d73b9c",
     "showTitle": false,
     "title": ""
    }
   },
   "source": [
    "# LOAN DATASET #"
   ]
  },
  {
   "cell_type": "code",
   "execution_count": 0,
   "metadata": {
    "application/vnd.databricks.v1+cell": {
     "cellMetadata": {
      "byteLimit": 2048000,
      "rowLimit": 10000
     },
     "inputWidgets": {},
     "nuid": "e786e68c-10ef-4c01-9abd-47fc42641371",
     "showTitle": false,
     "title": ""
    }
   },
   "outputs": [
    {
     "output_type": "stream",
     "name": "stdout",
     "output_type": "stream",
     "text": [
      "+-----------+---+------+-------------------+-------------+----------+------+-----------+------------+------------------+----------+-------+----------+--------------+---------------+\n|Customer_ID|Age|Gender|         Occupation|MaritalStatus|FamilySize|Income|Expenditure|UseFrequency|      LoanCategory|LoanAmount|Overdue|DebtRecord|ReturnedCheque|DishonourOfBill|\n+-----------+---+------+-------------------+-------------+----------+------+-----------+------------+------------------+----------+-------+----------+--------------+---------------+\n|    IB14001| 30|  MALE|       BANK MANAGER|       SINGLE|         4| 50000|      22199|           6|           HOUSING|   1000000|      5|     42898|             6|              9|\n|    IB14008| 44|  MALE|          PROFESSOR|      MARRIED|         6| 51000|      19999|           4|          SHOPPING|     50000|      3|     33999|             1|              5|\n|    IB14012| 30|FEMALE|            DENTIST|       SINGLE|         3| 58450|      27675|           5|        TRAVELLING|     75000|      6|     20876|             3|              1|\n|    IB14018| 29|  MALE|            TEACHER|      MARRIED|         5| 45767|      12787|           3|         GOLD LOAN|    600000|      7|     11000|             0|              4|\n|    IB14022| 34|  MALE|             POLICE|       SINGLE|         4| 43521|      11999|           3|        AUTOMOBILE|    200000|      2|     43898|             1|              2|\n|    IB14024| 55|FEMALE|              NURSE|      MARRIED|         6| 34999|      19888|           4|        AUTOMOBILE|     47787|      1|     50000|             0|              3|\n|    IB14025| 39|FEMALE|            TEACHER|      MARRIED|         6| 46619|      18675|           4|           HOUSING|   1209867|      8|     29999|             6|              8|\n|    IB14027| 51|  MALE|     SYSTEM MANAGER|      MARRIED|         3| 49999|      19111|           5|       RESTAURANTS|     60676|      8|     13000|             2|              5|\n|    IB14029| 24|FEMALE|            TEACHER|       SINGLE|         3| 45008|      17454|           4|        AUTOMOBILE|    399435|      9|     51987|             4|              7|\n|    IB14031| 37|FEMALE|  SOFTWARE ENGINEER|      MARRIED|         5| 55999|      23999|           5|        AUTOMOBILE|     60999|      2|         0|             5|              3|\n|    IB14032| 24|  MALE|       DATA ANALYST|       SINGLE|         4| 60111|      28999|           6|        AUTOMOBILE|     35232|      5|     33333|             1|              2|\n|    IB14034| 32|  MALE|   PRODUCT ENGINEER|      MARRIED|         6|     0|      29000|           7|COMPUTER SOFTWARES|     80660|      6|      4500|             5|              4|\n|    IB14037| 54|FEMALE|            TEACHER|      MARRIED|         5| 48099|      19999|           4|       RESTAURANTS|     30999|      1|     12000|             7|              5|\n|    IB14039| 45|  MALE|    ACCOUNT MANAGER|      MARRIED|         7| 45777|      18452|           4|         GOLD LOAN|    987611|      7|     39999|             8|              1|\n|    IB14041| 59|FEMALE|ASSISTANT PROFESSOR|      MARRIED|         4| 50999|      22999|           5|  EDUCATIONAL LOAN|    599934|      3|      9000|             9|              9|\n|    IB14042| 25|FEMALE|             DOCTOR|       SINGLE|         4| 60111|      27111|           5|        TRAVELLING|   1290929|      4|     18000|             1|              0|\n|    IB14045| 31|  MALE|       STORE KEEPER|       SINGLE|         5| 40999|      11999|           3|       BOOK STORES|    167654|      1|      4500|             0|              1|\n|    IB14049| 49|  MALE|       BANK MANAGER|      MARRIED|         4| 45999|      14500|           4|        TRAVELLING|     79999|      4|      6700|             7|              3|\n|    IB14050| 56|  MALE|     CIVIL ENGINEER|      MARRIED|         4|     0|      13999|           3|           HOUSING|   1065577|      6|     19999|             4|              2|\n|    IB14054| 58|FEMALE|             DOCTOR|      MARRIED|         5| 60000|      25000|           5|           HOUSING|    900000|      5|     21000|             9|              0|\n+-----------+---+------+-------------------+-------------+----------+------+-----------+------------+------------------+----------+-------+----------+--------------+---------------+\nonly showing top 20 rows\n\n"
     ]
    }
   ],
   "source": [
    "#read in load dataset\n",
    "# File location and type\n",
    "file_location = \"dbfs:/user/hive/warehouse/loan_df_to_csv\"\n",
    "file_type = \"delta\"\n",
    "\n",
    "# CSV options\n",
    "infer_schema = \"true\"\n",
    "first_row_is_header = \"true\"\n",
    "delimiter = \",\"\n",
    "\n",
    "# schema_cust = StructType([StructField(\"Customer_ID\", StringType()),\n",
    "#                      StructField(\"Age\", IntegerType()),\n",
    "#                      StructField(\"Gender\", IntegerType()),\n",
    "#                      StructField(\"Occupation\", StringType()),\n",
    "#                      StructField(\"Marital Status\", StringType()),\n",
    "#                      StructField(\"Family Size\", IntegerType()),\n",
    "#                      StructField(\"Income\", IntegerType()),\n",
    "#                      StructField(\"Expenditure\", IntegerType()),\n",
    "#                      StructField(\"Use Frequency\", IntegerType()),\n",
    "#                      StructField(\"Loan Category\", StringType()),\n",
    "#                      StructField(\"Loan Amount\", IntegerType()),\n",
    "#                      StructField(\"Overdue\", IntegerType()),\n",
    "#                      StructField(\"Debt Record\", IntegerType()),\n",
    "#                      StructField(\"Returned Cheque\", IntegerType()),\n",
    "#                      StructField(\"Dishonour of Bill\", IntegerType()),\n",
    "\n",
    "\n",
    "\n",
    "# ])\n",
    "\n",
    "# The applied options are for CSV files. For other file types, these will be ignored.\n",
    "df = spark.read.format(file_type).load(file_location)\n",
    "  \n",
    "df.show()"
   ]
  },
  {
   "cell_type": "code",
   "execution_count": 0,
   "metadata": {
    "application/vnd.databricks.v1+cell": {
     "cellMetadata": {
      "byteLimit": 2048000,
      "rowLimit": 10000
     },
     "inputWidgets": {},
     "nuid": "72e780d0-e313-4450-9691-a3e9aad95203",
     "showTitle": false,
     "title": ""
    },
    "scrolled": true
   },
   "outputs": [
    {
     "output_type": "stream",
     "name": "stdout",
     "output_type": "stream",
     "text": [
      "<bound method DataFrame.describe of DataFrame[Customer_ID: string, Age: bigint, Gender: string, Occupation: string, MaritalStatus: string, FamilySize: bigint, Income: bigint, Expenditure: bigint, UseFrequency: bigint, LoanCategory: string, LoanAmount: bigint, Overdue: bigint, DebtRecord: bigint, ReturnedCheque: bigint, DishonourOfBill: bigint]>\n"
     ]
    }
   ],
   "source": [
    "# Print the schema of the loan dataset\n",
    "print(df.describe)"
   ]
  },
  {
   "cell_type": "code",
   "execution_count": 0,
   "metadata": {
    "application/vnd.databricks.v1+cell": {
     "cellMetadata": {},
     "inputWidgets": {},
     "nuid": "0015b953-f7f8-4061-a669-1a197e2a26ab",
     "showTitle": false,
     "title": ""
    }
   },
   "outputs": [],
   "source": []
  },
  {
   "cell_type": "code",
   "execution_count": 0,
   "metadata": {
    "application/vnd.databricks.v1+cell": {
     "cellMetadata": {
      "byteLimit": 2048000,
      "rowLimit": 10000
     },
     "inputWidgets": {},
     "nuid": "5b1db28c-a7e1-4f1f-b01d-a638bebe6ef3",
     "showTitle": false,
     "title": ""
    },
    "scrolled": true
   },
   "outputs": [
    {
     "output_type": "stream",
     "name": "stdout",
     "output_type": "stream",
     "text": [
      "+-----------+---+------+------------+--------------+-----------+------+-----------+-------------+-------------+-----------+-------+-----------+---------------+-----------------+\n|Customer_ID|Age|Gender|  Occupation|Marital Status|Family Size|Income|Expenditure|Use Frequency|Loan Category|Loan Amount|Overdue|Debt Record|Returned Cheque|Dishonour of Bill|\n+-----------+---+------+------------+--------------+-----------+------+-----------+-------------+-------------+-----------+-------+-----------+---------------+-----------------+\n|    IB14001| 30|  MALE|BANK MANAGER|        SINGLE|          4| 50000|      22199|            6|      HOUSING|    1000000|      5|      42898|              6|                9|\n|    IB14008| 44|  MALE|   PROFESSOR|       MARRIED|          6| 51000|      19999|            4|     SHOPPING|      50000|      3|      33999|              1|                5|\n|    IB14012| 30|FEMALE|     DENTIST|        SINGLE|          3| 58450|      27675|            5|   TRAVELLING|      75000|      6|      20876|              3|                1|\n|    IB14018| 29|  MALE|     TEACHER|       MARRIED|          5| 45767|      12787|            3|    GOLD LOAN|     600000|      7|      11000|              0|                4|\n|    IB14022| 34|  MALE|      POLICE|        SINGLE|          4| 43521|      11999|            3|   AUTOMOBILE|     200000|      2|      43898|              1|                2|\n+-----------+---+------+------------+--------------+-----------+------+-----------+-------------+-------------+-----------+-------+-----------+---------------+-----------------+\nonly showing top 5 rows\n\n"
     ]
    }
   ],
   "source": [
    "# Print the first 5 lines of the loan dataset\n",
    "\n",
    "df.show(5)"
   ]
  },
  {
   "cell_type": "code",
   "execution_count": 0,
   "metadata": {
    "application/vnd.databricks.v1+cell": {
     "cellMetadata": {
      "byteLimit": 2048000,
      "rowLimit": 10000
     },
     "inputWidgets": {},
     "nuid": "e0b13b13-81e0-4ad7-be96-fd7d05148b82",
     "showTitle": false,
     "title": ""
    }
   },
   "outputs": [
    {
     "output_type": "stream",
     "name": "stdout",
     "output_type": "stream",
     "text": [
      "15\n"
     ]
    }
   ],
   "source": [
    "# Print the number of columns in the loan dataset\n",
    "print(len(df.columns))"
   ]
  },
  {
   "cell_type": "code",
   "execution_count": 0,
   "metadata": {
    "application/vnd.databricks.v1+cell": {
     "cellMetadata": {
      "byteLimit": 2048000,
      "rowLimit": 10000
     },
     "inputWidgets": {},
     "nuid": "3f298fd4-3bc1-4669-ab44-02f02178502b",
     "showTitle": false,
     "title": ""
    }
   },
   "outputs": [
    {
     "output_type": "stream",
     "name": "stdout",
     "output_type": "stream",
     "text": [
      "500\n"
     ]
    }
   ],
   "source": [
    "# Print the number of rows in the loan dataset\n",
    "print(df.count())"
   ]
  },
  {
   "cell_type": "code",
   "execution_count": 0,
   "metadata": {
    "application/vnd.databricks.v1+cell": {
     "cellMetadata": {
      "byteLimit": 2048000,
      "rowLimit": 10000
     },
     "inputWidgets": {},
     "nuid": "97fa8cc3-072f-4e47-8d90-548688d14adc",
     "showTitle": false,
     "title": ""
    }
   },
   "outputs": [
    {
     "output_type": "stream",
     "name": "stdout",
     "output_type": "stream",
     "text": [
      "500\n"
     ]
    }
   ],
   "source": [
    "# Print the count of distinct records in the loan dataset\n",
    "\n",
    "print(df.distinct().count())"
   ]
  },
  {
   "cell_type": "code",
   "execution_count": 0,
   "metadata": {
    "application/vnd.databricks.v1+cell": {
     "cellMetadata": {
      "byteLimit": 2048000,
      "rowLimit": 10000
     },
     "inputWidgets": {},
     "nuid": "970f2440-db16-4c00-bed6-af4764a802f0",
     "showTitle": false,
     "title": ""
    },
    "scrolled": true
   },
   "outputs": [
    {
     "output_type": "stream",
     "name": "stdout",
     "output_type": "stream",
     "text": [
      "+------------------+-----+\n|      LoanCategory|count|\n+------------------+-----+\n|           HOUSING|   67|\n|        TRAVELLING|   53|\n|       BOOK STORES|    7|\n|       AGRICULTURE|   12|\n|         GOLD LOAN|   77|\n|  EDUCATIONAL LOAN|   20|\n|        AUTOMOBILE|   60|\n|          BUSINESS|   24|\n|COMPUTER SOFTWARES|   35|\n|           DINNING|   14|\n|          SHOPPING|   35|\n|       RESTAURANTS|   41|\n|       ELECTRONICS|   14|\n|          BUILDING|    7|\n|        RESTAURANT|   20|\n|   HOME APPLIANCES|   14|\n+------------------+-----+\n\n"
     ]
    }
   ],
   "source": [
    "# find the number of loans in each category\n",
    "df.groupBy('LoanCategory').count().show()"
   ]
  },
  {
   "cell_type": "code",
   "execution_count": 0,
   "metadata": {
    "application/vnd.databricks.v1+cell": {
     "cellMetadata": {
      "byteLimit": 2048000,
      "rowLimit": 10000
     },
     "inputWidgets": {},
     "nuid": "fc1c28eb-d3bc-4be3-995c-fb2b696eca99",
     "showTitle": false,
     "title": ""
    }
   },
   "outputs": [
    {
     "output_type": "stream",
     "name": "stdout",
     "output_type": "stream",
     "text": [
      "450\n"
     ]
    }
   ],
   "source": [
    "print(df.filter(df.LoanAmount > 100000).count())"
   ]
  },
  {
   "cell_type": "code",
   "execution_count": 0,
   "metadata": {
    "application/vnd.databricks.v1+cell": {
     "cellMetadata": {},
     "inputWidgets": {},
     "nuid": "1669d88a-814e-4158-b404-10bef5cf83f1",
     "showTitle": false,
     "title": ""
    },
    "scrolled": true
   },
   "outputs": [
    {
     "output_type": "execute_result",
     "data": {
      "text/plain": [
       "198"
      ]
     },
     "execution_count": 18,
     "metadata": {},
     "output_type": "execute_result"
    }
   ],
   "source": [
    "# find the number of people with income greater than 60000 rupees\n"
   ]
  },
  {
   "cell_type": "code",
   "execution_count": 0,
   "metadata": {
    "application/vnd.databricks.v1+cell": {
     "cellMetadata": {
      "byteLimit": 2048000,
      "rowLimit": 10000
     },
     "inputWidgets": {},
     "nuid": "3b6ba4a2-a08f-482a-9cf6-52fdc1e491e2",
     "showTitle": false,
     "title": ""
    }
   },
   "outputs": [
    {
     "output_type": "stream",
     "name": "stdout",
     "output_type": "stream",
     "text": [
      "167\n"
     ]
    }
   ],
   "source": [
    "# fidn the number of people with 2 or more returned cheques and income less than 50000\n",
    "print(df.filter((df.ReturnedCheque >= 2) & (df.Income < 50000)).count())"
   ]
  },
  {
   "cell_type": "code",
   "execution_count": 0,
   "metadata": {
    "application/vnd.databricks.v1+cell": {
     "cellMetadata": {
      "byteLimit": 2048000,
      "rowLimit": 10000
     },
     "inputWidgets": {},
     "nuid": "01b288c5-8e01-4636-a1c1-28e33fe9551b",
     "showTitle": false,
     "title": ""
    }
   },
   "outputs": [
    {
     "output_type": "stream",
     "name": "stdout",
     "output_type": "stream",
     "text": [
      "111\n"
     ]
    }
   ],
   "source": [
    "# find the number of people with 2 or more returned cheques and are single\n",
    "print(df.filter((df.ReturnedCheque >= 2) & (df.MaritalStatus == 'SINGLE')).count())"
   ]
  },
  {
   "cell_type": "code",
   "execution_count": 0,
   "metadata": {
    "application/vnd.databricks.v1+cell": {
     "cellMetadata": {
      "byteLimit": 2048000,
      "implicitDf": true,
      "rowLimit": 10000
     },
     "inputWidgets": {},
     "nuid": "4d6dadbe-d2d1-4dd7-8734-8771fc86c336",
     "showTitle": false,
     "title": ""
    }
   },
   "outputs": [
    {
     "output_type": "display_data",
     "data": {
      "text/html": [
       "<style scoped>\n",
       "  .table-result-container {\n",
       "    max-height: 300px;\n",
       "    overflow: auto;\n",
       "  }\n",
       "  table, th, td {\n",
       "    border: 1px solid black;\n",
       "    border-collapse: collapse;\n",
       "  }\n",
       "  th, td {\n",
       "    padding: 5px;\n",
       "  }\n",
       "  th {\n",
       "    text-align: left;\n",
       "  }\n",
       "</style><div class='table-result-container'><table class='table-result'><thead style='background-color: white'><tr><th>Customer_ID</th><th>Age</th><th>Gender</th><th>Occupation</th><th>MaritalStatus</th><th>FamilySize</th><th>Income</th><th>Expenditure</th><th>UseFrequency</th><th>LoanCategory</th><th>LoanAmount</th><th>Overdue</th><th>DebtRecord</th><th>ReturnedCheque</th><th>DishonourOfBill</th></tr></thead><tbody><tr><td>IB14001</td><td>30</td><td>MALE</td><td>BANK MANAGER</td><td>SINGLE</td><td>4</td><td>50000</td><td>22199</td><td>6</td><td>HOUSING</td><td>1000000</td><td>5</td><td>42898</td><td>6</td><td>9</td></tr><tr><td>IB14008</td><td>44</td><td>MALE</td><td>PROFESSOR</td><td>MARRIED</td><td>6</td><td>51000</td><td>19999</td><td>4</td><td>SHOPPING</td><td>50000</td><td>3</td><td>33999</td><td>1</td><td>5</td></tr><tr><td>IB14012</td><td>30</td><td>FEMALE</td><td>DENTIST</td><td>SINGLE</td><td>3</td><td>58450</td><td>27675</td><td>5</td><td>TRAVELLING</td><td>75000</td><td>6</td><td>20876</td><td>3</td><td>1</td></tr><tr><td>IB14018</td><td>29</td><td>MALE</td><td>TEACHER</td><td>MARRIED</td><td>5</td><td>45767</td><td>12787</td><td>3</td><td>GOLD LOAN</td><td>600000</td><td>7</td><td>11000</td><td>0</td><td>4</td></tr><tr><td>IB14022</td><td>34</td><td>MALE</td><td>POLICE</td><td>SINGLE</td><td>4</td><td>43521</td><td>11999</td><td>3</td><td>AUTOMOBILE</td><td>200000</td><td>2</td><td>43898</td><td>1</td><td>2</td></tr><tr><td>IB14024</td><td>55</td><td>FEMALE</td><td>NURSE</td><td>MARRIED</td><td>6</td><td>34999</td><td>19888</td><td>4</td><td>AUTOMOBILE</td><td>47787</td><td>1</td><td>50000</td><td>0</td><td>3</td></tr><tr><td>IB14025</td><td>39</td><td>FEMALE</td><td>TEACHER</td><td>MARRIED</td><td>6</td><td>46619</td><td>18675</td><td>4</td><td>HOUSING</td><td>1209867</td><td>8</td><td>29999</td><td>6</td><td>8</td></tr><tr><td>IB14027</td><td>51</td><td>MALE</td><td>SYSTEM MANAGER</td><td>MARRIED</td><td>3</td><td>49999</td><td>19111</td><td>5</td><td>RESTAURANTS</td><td>60676</td><td>8</td><td>13000</td><td>2</td><td>5</td></tr><tr><td>IB14029</td><td>24</td><td>FEMALE</td><td>TEACHER</td><td>SINGLE</td><td>3</td><td>45008</td><td>17454</td><td>4</td><td>AUTOMOBILE</td><td>399435</td><td>9</td><td>51987</td><td>4</td><td>7</td></tr><tr><td>IB14031</td><td>37</td><td>FEMALE</td><td>SOFTWARE ENGINEER</td><td>MARRIED</td><td>5</td><td>55999</td><td>23999</td><td>5</td><td>AUTOMOBILE</td><td>60999</td><td>2</td><td>0</td><td>5</td><td>3</td></tr><tr><td>IB14032</td><td>24</td><td>MALE</td><td>DATA ANALYST</td><td>SINGLE</td><td>4</td><td>60111</td><td>28999</td><td>6</td><td>AUTOMOBILE</td><td>35232</td><td>5</td><td>33333</td><td>1</td><td>2</td></tr><tr><td>IB14034</td><td>32</td><td>MALE</td><td>PRODUCT ENGINEER</td><td>MARRIED</td><td>6</td><td>0</td><td>29000</td><td>7</td><td>COMPUTER SOFTWARES</td><td>80660</td><td>6</td><td>4500</td><td>5</td><td>4</td></tr><tr><td>IB14037</td><td>54</td><td>FEMALE</td><td>TEACHER</td><td>MARRIED</td><td>5</td><td>48099</td><td>19999</td><td>4</td><td>RESTAURANTS</td><td>30999</td><td>1</td><td>12000</td><td>7</td><td>5</td></tr><tr><td>IB14039</td><td>45</td><td>MALE</td><td>ACCOUNT MANAGER</td><td>MARRIED</td><td>7</td><td>45777</td><td>18452</td><td>4</td><td>GOLD LOAN</td><td>987611</td><td>7</td><td>39999</td><td>8</td><td>1</td></tr><tr><td>IB14041</td><td>59</td><td>FEMALE</td><td>ASSISTANT PROFESSOR</td><td>MARRIED</td><td>4</td><td>50999</td><td>22999</td><td>5</td><td>EDUCATIONAL LOAN</td><td>599934</td><td>3</td><td>9000</td><td>9</td><td>9</td></tr><tr><td>IB14042</td><td>25</td><td>FEMALE</td><td>DOCTOR</td><td>SINGLE</td><td>4</td><td>60111</td><td>27111</td><td>5</td><td>TRAVELLING</td><td>1290929</td><td>4</td><td>18000</td><td>1</td><td>0</td></tr><tr><td>IB14045</td><td>31</td><td>MALE</td><td>STORE KEEPER</td><td>SINGLE</td><td>5</td><td>40999</td><td>11999</td><td>3</td><td>BOOK STORES</td><td>167654</td><td>1</td><td>4500</td><td>0</td><td>1</td></tr><tr><td>IB14049</td><td>49</td><td>MALE</td><td>BANK MANAGER</td><td>MARRIED</td><td>4</td><td>45999</td><td>14500</td><td>4</td><td>TRAVELLING</td><td>79999</td><td>4</td><td>6700</td><td>7</td><td>3</td></tr><tr><td>IB14050</td><td>56</td><td>MALE</td><td>CIVIL ENGINEER</td><td>MARRIED</td><td>4</td><td>0</td><td>13999</td><td>3</td><td>HOUSING</td><td>1065577</td><td>6</td><td>19999</td><td>4</td><td>2</td></tr><tr><td>IB14054</td><td>58</td><td>FEMALE</td><td>DOCTOR</td><td>MARRIED</td><td>5</td><td>60000</td><td>25000</td><td>5</td><td>HOUSING</td><td>900000</td><td>5</td><td>21000</td><td>9</td><td>0</td></tr><tr><td>IB14057</td><td>25</td><td>MALE</td><td>AIRPORT OFFICER</td><td>SINGLE</td><td>4</td><td>40000</td><td>18888</td><td>3</td><td>RESTAURANTS</td><td>400000</td><td>8</td><td>11111</td><td>1</td><td>7</td></tr><tr><td>IB14060</td><td>36</td><td>FEMALE</td><td>CLERK</td><td>MARRIED</td><td>4</td><td>35000</td><td>15000</td><td>3</td><td>HOUSING</td><td>300000</td><td>2</td><td>5600</td><td>4</td><td>8</td></tr><tr><td>IB14070</td><td>40</td><td>MALE</td><td>PUBLIC WORKS</td><td>MARRIED</td><td>4</td><td>38000</td><td>20000</td><td>3</td><td>GOLD LOAN</td><td>400000</td><td>9</td><td>19954</td><td>3</td><td>2</td></tr><tr><td>IB14078</td><td>45</td><td>FEMALE</td><td>FIRE DEPARTMENT</td><td>MARRIED</td><td>4</td><td>40000</td><td>18888</td><td>4</td><td>AUTOMOBILE</td><td>70000</td><td>1</td><td>0</td><td>2</td><td>1</td></tr><tr><td>IB14079</td><td>25</td><td>MALE</td><td>CLERK</td><td>SINGLE</td><td>3</td><td>35000</td><td>9000</td><td>2</td><td>GOLD LOAN</td><td>100000</td><td>3</td><td>12584</td><td>1</td><td>2</td></tr><tr><td>IB14082</td><td>60</td><td>FEMALE</td><td>TEACHER</td><td>MARRIED</td><td>5</td><td>70000</td><td>40000</td><td>9</td><td>GOLD LOAN</td><td>257789</td><td>4</td><td>10058</td><td>4</td><td>3</td></tr><tr><td>IB14085</td><td>30</td><td>MALE</td><td>ELECTRICIAN</td><td>MARRIED</td><td>4</td><td>30000</td><td>15000</td><td>5</td><td>HOUSING</td><td>354789</td><td>5</td><td>32154</td><td>5</td><td>5</td></tr><tr><td>IB14086</td><td>51</td><td>FEMALE</td><td>TECHNICIAN</td><td>MARRIED</td><td>5</td><td>30000</td><td>0</td><td>5</td><td>RESTAURANTS</td><td>125463</td><td>7</td><td>52634</td><td>4</td><td>10</td></tr><tr><td>IB14089</td><td>25</td><td>MALE</td><td>PROFESSOR</td><td>SINGLE</td><td>5</td><td>62145</td><td>31254</td><td>4</td><td>BOOK STORES</td><td>1245789</td><td>6</td><td>48596</td><td>6</td><td>5</td></tr><tr><td>IB14092</td><td>47</td><td>MALE</td><td>SYSTEM ENGINEER</td><td>MARRIED</td><td>4</td><td>52364</td><td>45612</td><td>3</td><td>GOLD LOAN</td><td>654725</td><td>4</td><td>67451</td><td>5</td><td>4</td></tr><tr><td>1B14093</td><td>21</td><td>FEMALE</td><td>MANAGER</td><td>SINGLE</td><td>3</td><td>42516</td><td>24567</td><td>7</td><td>AUTOMOBILE</td><td>2569874</td><td>8</td><td>89652</td><td>2</td><td>3</td></tr><tr><td>1B14094</td><td>49</td><td>MALE</td><td>ASSISTANT PROFESSOR</td><td>MARRIED</td><td>5</td><td>65214</td><td>42589</td><td>5</td><td>HOUSING</td><td>985412</td><td>5</td><td>11254</td><td>1</td><td>2</td></tr><tr><td>IB14096</td><td>33</td><td>FEMALE</td><td>CLERK</td><td>MARRIED</td><td>3</td><td>35684</td><td>15247</td><td>3</td><td>RESTAURANTS</td><td>1452637</td><td>3</td><td>13547</td><td>3</td><td>2</td></tr><tr><td>IB14099</td><td>47</td><td>FEMALE</td><td>DOCTOR</td><td>MARRIED</td><td>4</td><td>72154</td><td>45286</td><td>4</td><td>AUTOMOBILE</td><td>754126</td><td>2</td><td>19524</td><td>5</td><td>2</td></tr><tr><td>IB14101</td><td>33</td><td>FEMALE</td><td>PRODUCT ENGINEER</td><td>MARRIED</td><td>5</td><td>0</td><td>45812</td><td>5</td><td>AUTOMOBILE</td><td>852416</td><td>4</td><td>17524</td><td>6</td><td>3</td></tr><tr><td>IB14104</td><td>54</td><td>MALE</td><td>AIRPORT OFFICER</td><td>MARRIED</td><td>6</td><td>80000</td><td>32541</td><td>2</td><td>AUTOMOBILE</td><td>2045789</td><td>1</td><td>16599</td><td>2</td><td>3</td></tr><tr><td>IB14106</td><td>29</td><td>MALE</td><td>FIRE DEPARTMENT</td><td>MARRIED</td><td>5</td><td>45213</td><td>32457</td><td>9</td><td>TRAVELLING</td><td>1524789</td><td>7</td><td>90000</td><td>2</td><td>5</td></tr><tr><td>IB14107</td><td>44</td><td>FEMALE</td><td>ACCOUNT MANAGER</td><td>MARRIED</td><td>4</td><td>800000</td><td>15632</td><td>8</td><td>AUTOMOBILE</td><td>2365478</td><td>5</td><td>20145</td><td>3</td><td>4</td></tr><tr><td>IB14109</td><td>56</td><td>MALE</td><td>DRIVER</td><td>MARRIED</td><td>5</td><td>30000</td><td>15426</td><td>7</td><td>TRAVELLING</td><td>921456</td><td>6</td><td>20000</td><td>4</td><td>6</td></tr><tr><td>IB14111</td><td>57</td><td>FEMALE</td><td>CORPORATE OFFICER</td><td>MARRIED</td><td>3</td><td>52143</td><td>0</td><td>4</td><td>COMPUTER SOFTWARES</td><td>7541236</td><td>4</td><td>11111</td><td>3</td><td>2</td></tr><tr><td>IB14113</td><td>49</td><td>MALE</td><td>ASSISTANT MANAGER</td><td>MARRIED</td><td>7</td><td>45612</td><td>39542</td><td>3</td><td>SHOPPING</td><td>587412</td><td>7</td><td>65412</td><td>3</td><td>2</td></tr><tr><td>IB14115</td><td>41</td><td>MALE</td><td>BANK MANAGER</td><td>MARRIED</td><td>6</td><td>64125</td><td>21246</td><td>6</td><td>TRAVELLING</td><td>652147</td><td>5</td><td>16524</td><td>3</td><td>3</td></tr><tr><td>IB14117</td><td>39</td><td>FEMALE</td><td>SYSTEM OFFICER</td><td>MARRIED</td><td>6</td><td>0</td><td>32541</td><td>5</td><td>EDUCATIONAL LOAN</td><td>102256</td><td>3</td><td>14256</td><td>4</td><td>4</td></tr><tr><td>IB14120</td><td>47</td><td>FEMALE</td><td>TEACHER</td><td>MARRIED</td><td>3</td><td>50000</td><td>42563</td><td>4</td><td>RESTAURANTS</td><td>654120</td><td>6</td><td>45127</td><td>2</td><td>3</td></tr><tr><td>IB14121</td><td>33</td><td>MALE</td><td>DOCTOR</td><td>MARRIED</td><td>6</td><td>70000</td><td>12541</td><td>8</td><td>HOUSING</td><td>745213</td><td>4</td><td>19541</td><td>1</td><td>3</td></tr><tr><td>IB14123</td><td>36</td><td>MALE</td><td>ELECTRICIAN</td><td>MARRIED</td><td>2</td><td>36985</td><td>25648</td><td>6</td><td>AUTOMOBILE</td><td>985413</td><td>7</td><td>20000</td><td>5</td><td>3</td></tr><tr><td>IB14125</td><td>29</td><td>FEMALE</td><td>TEACHER</td><td>MARRIED</td><td>4</td><td>59999</td><td>42568</td><td>4</td><td>AUTOMOBILE</td><td>5214789</td><td>5</td><td>17452</td><td>2</td><td>2</td></tr><tr><td>IB14126</td><td>57</td><td>MALE</td><td>FIRE DEPARTMENT</td><td>MARRIED</td><td>5</td><td>54123</td><td>0</td><td>7</td><td>RESTAURANTS</td><td>412365</td><td>6</td><td>18524</td><td>2</td><td>1</td></tr><tr><td>IB14128</td><td>46</td><td>FEMALE</td><td>CLERK</td><td>MARRIED</td><td>3</td><td>750000</td><td>25641</td><td>5</td><td>GOLD LOAN</td><td>214569</td><td>4</td><td>16324</td><td>3</td><td>4</td></tr><tr><td>IB14130</td><td>43</td><td>MALE</td><td>PRODUCT ENGINEER</td><td>MARRIED</td><td>4</td><td>50147</td><td>45863</td><td>8</td><td>COMPUTER SOFTWARES</td><td>785241</td><td>8</td><td>19999</td><td>3</td><td>5</td></tr><tr><td>IB14134</td><td>33</td><td>MALE</td><td>DOCTOR</td><td>MARRIED</td><td>6</td><td>70000</td><td>33541</td><td>8</td><td>BUILDING</td><td>745213</td><td>4</td><td>19541</td><td>1</td><td>3</td></tr><tr><td>IB14136</td><td>36</td><td>MALE</td><td>ELECTRICIAN</td><td>MARRIED</td><td>2</td><td>36985</td><td>25648</td><td>6</td><td>ELECTRONICS</td><td>985413</td><td>7</td><td>20000</td><td>5</td><td>3</td></tr><tr><td>IB14138</td><td>27</td><td>FEMALE</td><td>SOFTWARE ENGINEER</td><td>SINGLE</td><td>4</td><td>40000</td><td>22000</td><td>4</td><td>GOLD LOAN</td><td>400000</td><td>4</td><td>15647</td><td>5</td><td>3</td></tr><tr><td>IB14140</td><td>45</td><td>MALE</td><td>BANK MANAGER</td><td>MARRIED</td><td>6</td><td>55670</td><td>32500</td><td>5</td><td>TRAVELLING</td><td>200560</td><td>3</td><td>34600</td><td>4</td><td>4</td></tr><tr><td>IB14143</td><td>34</td><td>FEMALE</td><td>TEACHER</td><td>MARRIED</td><td>4</td><td>45389</td><td>0</td><td>5</td><td>HOME APPLIANCES</td><td>350050</td><td>4</td><td>24000</td><td>4</td><td>3</td></tr><tr><td>IB14145</td><td>45</td><td>FEMALE</td><td>CLERK</td><td>MARRIED</td><td>5</td><td>40560</td><td>38789</td><td>6</td><td>TRAVELLING</td><td>785000</td><td>6</td><td>29650</td><td>6</td><td>7</td></tr><tr><td>IB14146</td><td>56</td><td>MALE</td><td>FIRE DEPARTMENT</td><td>MARRIED</td><td>6</td><td>67890</td><td>34567</td><td>5</td><td>TRAVELLING</td><td>678500</td><td>5</td><td>13560</td><td>3</td><td>4</td></tr><tr><td>IBI4148</td><td>46</td><td>MALE</td><td>SYSTEM OFFICER</td><td>MARRIED</td><td>5</td><td>56780</td><td>24560</td><td>5</td><td>GOLD LOAN</td><td>854000</td><td>6</td><td>23700</td><td>6</td><td>4</td></tr><tr><td>IBI4150</td><td>38</td><td>FEMALE</td><td>ACCOUNT MANAGER</td><td>MARRIED</td><td>4</td><td>45600</td><td>19870</td><td>4</td><td>HOME APPLIANCES</td><td>765040</td><td>5</td><td>35700</td><td>5</td><td>4</td></tr><tr><td>IBI4153</td><td>58</td><td>MALE</td><td>SYSTEM ENGINEER</td><td>MARRIED</td><td>6</td><td>76800</td><td>0</td><td>5</td><td>TRAVELLING</td><td>1659080</td><td>6</td><td>29000</td><td>5</td><td>3</td></tr><tr><td>IBI4155</td><td>24</td><td>FEMALE</td><td>SOFTWARE ENGINEER</td><td>SINGLE</td><td>4</td><td>55680</td><td>29000</td><td>5</td><td>AUTOMOBILE</td><td>789000</td><td>5</td><td>24000</td><td>6</td><td>4</td></tr><tr><td>IBI4157</td><td>35</td><td>MALE</td><td>BANK MANAGER</td><td>MARRIED</td><td>4</td><td>930000</td><td>35680</td><td>6</td><td>HOUSING</td><td>679040</td><td>5</td><td>34000</td><td>5</td><td>5</td></tr><tr><td>IB14158</td><td>54</td><td>MALE</td><td>AIRPORT OFFICER</td><td>MARRIED</td><td>6</td><td>80000</td><td>62541</td><td>2</td><td>AUTOMOBILE</td><td>2045789</td><td>1</td><td>16599</td><td>2</td><td>3</td></tr><tr><td>IB14160</td><td>29</td><td>MALE</td><td>FIRE DEPARTMENT</td><td>MARRIED</td><td>5</td><td>45213</td><td>32457</td><td>9</td><td>TRAVELLING</td><td>1524789</td><td>7</td><td>90000</td><td>2</td><td>5</td></tr><tr><td>IB14163</td><td>44</td><td>FEMALE</td><td>ACCOUNT MANAGER</td><td>MARRIED</td><td>4</td><td>800000</td><td>15632</td><td>8</td><td>COMPUTER SOFTWARES</td><td>2365478</td><td>5</td><td>20145</td><td>3</td><td>4</td></tr><tr><td>IB14164</td><td>56</td><td>MALE</td><td>DRIVER</td><td>MARRIED</td><td>5</td><td>30000</td><td>15426</td><td>7</td><td>TRAVELLING</td><td>921456</td><td>6</td><td>20000</td><td>4</td><td>6</td></tr><tr><td>IB14167</td><td>57</td><td>FEMALE</td><td>CORPORATE OFFICER</td><td>MARRIED</td><td>3</td><td>52143</td><td>0</td><td>4</td><td>AUTOMOBILE</td><td>7541236</td><td>4</td><td>11111</td><td>3</td><td>2</td></tr><tr><td>IB14169</td><td>49</td><td>MALE</td><td>ASSISTANT MANAGER</td><td>MARRIED</td><td>7</td><td>45612</td><td>39542</td><td>3</td><td>SHOPPING</td><td>587412</td><td>7</td><td>65412</td><td>3</td><td>2</td></tr><tr><td>IB14171</td><td>47</td><td>FEMALE</td><td>DOCTOR</td><td>MARRIED</td><td>4</td><td>72154</td><td>45286</td><td>4</td><td>AUTOMOBILE</td><td>754126</td><td>2</td><td>19524</td><td>5</td><td>2</td></tr><tr><td>IB14173</td><td>33</td><td>FEMALE</td><td>PRODUCT ENGINEER</td><td>MARRIED</td><td>5</td><td>0</td><td>45812</td><td>5</td><td>SHOPPING</td><td>852416</td><td>4</td><td>17524</td><td>6</td><td>3</td></tr><tr><td>IB14176</td><td>54</td><td>MALE</td><td>AIRPORT OFFICER</td><td>MARRIED</td><td>6</td><td>80000</td><td>62541</td><td>2</td><td>HOUSING</td><td>2045789</td><td>1</td><td>16599</td><td>2</td><td>3</td></tr><tr><td>IB14178</td><td>51</td><td>MALE</td><td>SYSTEM MANAGER</td><td>MARRIED</td><td>3</td><td>49999</td><td>19111</td><td>5</td><td>ELECTRONICS</td><td>60676</td><td>8</td><td>13000</td><td>2</td><td>5</td></tr><tr><td>IB14179</td><td>24</td><td>FEMALE</td><td>TEACHER</td><td>SINGLE</td><td>3</td><td>45008</td><td>17454</td><td>4</td><td>AUTOMOBILE</td><td>399435</td><td>9</td><td>51987</td><td>4</td><td>7</td></tr><tr><td>IB14181</td><td>37</td><td>FEMALE</td><td>SOFTWARE ENGINEER</td><td>MARRIED</td><td>5</td><td>55999</td><td>23999</td><td>5</td><td>HOME APPLIANCES</td><td>60999</td><td>2</td><td>0</td><td>5</td><td>3</td></tr><tr><td>IB14184</td><td>24</td><td>MALE</td><td>DATA ANALYST</td><td>SINGLE</td><td>4</td><td>60111</td><td>28999</td><td>6</td><td>RESTAURANTS</td><td>35232</td><td>5</td><td>33333</td><td>1</td><td>2</td></tr><tr><td>IB14186</td><td>44</td><td>MALE</td><td>PROFESSOR</td><td>MARRIED</td><td>6</td><td>59000</td><td>19999</td><td>4</td><td>AUTOMOBILE</td><td>50000</td><td>3</td><td>33999</td><td>1</td><td>5</td></tr><tr><td>IB14187</td><td>30</td><td>FEMALE</td><td>DENTIST</td><td>SINGLE</td><td>3</td><td>58450</td><td>27675</td><td>5</td><td>TRAVELLING</td><td>75000</td><td>6</td><td>20876</td><td>3</td><td>1</td></tr><tr><td>IB14189</td><td>29</td><td>MALE</td><td>TEACHER</td><td>MARRIED</td><td>5</td><td>45767</td><td>12787</td><td>3</td><td>GOLD LOAN</td><td>600000</td><td>7</td><td>11000</td><td>0</td><td>4</td></tr><tr><td>IB14191</td><td>34</td><td>MALE</td><td>POLICE</td><td>SINGLE</td><td>4</td><td>44521</td><td>11999</td><td>3</td><td>AUTOMOBILE</td><td>200000</td><td>2</td><td>43898</td><td>1</td><td>2</td></tr><tr><td>IB14194</td><td>55</td><td>FEMALE</td><td>NURSE</td><td>MARRIED</td><td>6</td><td>34999</td><td>19888</td><td>4</td><td>TRAVELLING</td><td>47787</td><td>1</td><td>50000</td><td>0</td><td>3</td></tr><tr><td>IB14195</td><td>32</td><td>MALE</td><td>PRODUCT ENGINEER</td><td>MARRIED</td><td>6</td><td>0</td><td>29000</td><td>7</td><td>SHOPPING</td><td>80660</td><td>6</td><td>4500</td><td>5</td><td>4</td></tr><tr><td>IB14197</td><td>54</td><td>FEMALE</td><td>TEACHER</td><td>MARRIED</td><td>5</td><td>48099</td><td>19999</td><td>4</td><td>RESTAURANTS</td><td>300999</td><td>1</td><td>12000</td><td>7</td><td>5</td></tr><tr><td>IB14199</td><td>45</td><td>MALE</td><td>ACCOUNT MANAGER</td><td>MARRIED</td><td>7</td><td>45777</td><td>18452</td><td>4</td><td>GOLD LOAN</td><td>987611</td><td>7</td><td>39999</td><td>8</td><td>1</td></tr><tr><td>IB14201</td><td>59</td><td>FEMALE</td><td>ASSISTANT PROFESSOR</td><td>MARRIED</td><td>4</td><td>60999</td><td>22999</td><td>5</td><td>AUTOMOBILE</td><td>599934</td><td>3</td><td>9000</td><td>9</td><td>9</td></tr><tr><td>IBI4202</td><td>35</td><td>MALE</td><td>BANK MANAGER</td><td>MARRIED</td><td>4</td><td>67500</td><td>25780</td><td>6</td><td>AUTOMOBILE</td><td>679040</td><td>5</td><td>34000</td><td>5</td><td>5</td></tr><tr><td>IB14204</td><td>54</td><td>MALE</td><td>AIRPORT OFFICER</td><td>MARRIED</td><td>6</td><td>81000</td><td>62541</td><td>2</td><td>DINNING</td><td>2045789</td><td>1</td><td>16599</td><td>2</td><td>3</td></tr><tr><td>IB14206</td><td>51</td><td>MALE</td><td>SYSTEM MANAGER</td><td>MARRIED</td><td>3</td><td>39999</td><td>19111</td><td>5</td><td>AUTOMOBILE</td><td>60676</td><td>8</td><td>13000</td><td>2</td><td>5</td></tr><tr><td>IB14208</td><td>36</td><td>FEMALE</td><td>CLERK</td><td>MARRIED</td><td>4</td><td>45300</td><td>15000</td><td>3</td><td>HOUSING</td><td>300000</td><td>2</td><td>5600</td><td>4</td><td>8</td></tr><tr><td>IB14210</td><td>40</td><td>MALE</td><td>PUBLIC WORKS</td><td>MARRIED</td><td>4</td><td>38000</td><td>20000</td><td>3</td><td>GOLD LOAN</td><td>400000</td><td>9</td><td>19954</td><td>3</td><td>2</td></tr><tr><td>IB14213</td><td>31</td><td>MALE</td><td>STORE KEEPER</td><td>SINGLE</td><td>5</td><td>40999</td><td>11999</td><td>3</td><td>AUTOMOBILE</td><td>167654</td><td>1</td><td>4500</td><td>0</td><td>1</td></tr><tr><td>IB14215</td><td>49</td><td>MALE</td><td>BANK MANAGER</td><td>MARRIED</td><td>4</td><td>45999</td><td>14500</td><td>4</td><td>TRAVELLING</td><td>79999</td><td>4</td><td>6700</td><td>7</td><td>3</td></tr><tr><td>IB14216</td><td>24</td><td>MALE</td><td>DATA ANALYST</td><td>SINGLE</td><td>4</td><td>60111</td><td>28999</td><td>6</td><td>RESTAURANTS</td><td>35232</td><td>5</td><td>33333</td><td>1</td><td>2</td></tr><tr><td>IB14218</td><td>44</td><td>MALE</td><td>PROFESSOR</td><td>MARRIED</td><td>6</td><td>51000</td><td>19999</td><td>4</td><td>SHOPPING</td><td>50000</td><td>3</td><td>33999</td><td>1</td><td>5</td></tr><tr><td>IB14220</td><td>30</td><td>FEMALE</td><td>DENTIST</td><td>SINGLE</td><td>3</td><td>58450</td><td>27675</td><td>5</td><td>TRAVELLING</td><td>75000</td><td>6</td><td>20876</td><td>3</td><td>1</td></tr><tr><td>IB14221</td><td>31</td><td>MALE</td><td>STORE KEEPER</td><td>SINGLE</td><td>5</td><td>40999</td><td>11999</td><td>3</td><td>BOOK STORES</td><td>167654</td><td>1</td><td>4500</td><td>0</td><td>1</td></tr><tr><td>IB14224</td><td>49</td><td>MALE</td><td>BANK MANAGER</td><td>MARRIED</td><td>4</td><td>45999</td><td>14500</td><td>4</td><td>HOME APPLIANCES</td><td>79999</td><td>4</td><td>6700</td><td>7</td><td>3</td></tr><tr><td>IB14225</td><td>56</td><td>MALE</td><td>CIVIL ENGINEER</td><td>MARRIED</td><td>4</td><td>0</td><td>13999</td><td>3</td><td>HOUSING</td><td>1065577</td><td>6</td><td>19999</td><td>4</td><td>2</td></tr><tr><td>IB14227</td><td>54</td><td>MALE</td><td>AIRPORT OFFICER</td><td>MARRIED</td><td>6</td><td>80000</td><td>62541</td><td>2</td><td>HOUSING</td><td>2045789</td><td>1</td><td>16599</td><td>2</td><td>3</td></tr><tr><td>IB14229</td><td>51</td><td>MALE</td><td>SYSTEM MANAGER</td><td>MARRIED</td><td>3</td><td>49999</td><td>19111</td><td>5</td><td>ELECTRONICS</td><td>60676</td><td>8</td><td>13000</td><td>2</td><td>5</td></tr><tr><td>IB14231</td><td>24</td><td>FEMALE</td><td>TEACHER</td><td>SINGLE</td><td>3</td><td>45008</td><td>17454</td><td>4</td><td>AUTOMOBILE</td><td>399435</td><td>9</td><td>51987</td><td>4</td><td>7</td></tr></tbody></table></div>"
      ]
     },
     "metadata": {
      "application/vnd.databricks.v1+output": {
       "addedWidgets": {},
       "aggData": [],
       "aggError": "",
       "aggOverflow": false,
       "aggSchema": [],
       "aggSeriesLimitReached": false,
       "aggType": "",
       "arguments": {},
       "columnCustomDisplayInfos": {},
       "data": [
        [
         "IB14001",
         30,
         "MALE",
         "BANK MANAGER",
         "SINGLE",
         4,
         50000,
         22199,
         6,
         "HOUSING",
         1000000,
         5,
         42898,
         6,
         9
        ],
        [
         "IB14008",
         44,
         "MALE",
         "PROFESSOR",
         "MARRIED",
         6,
         51000,
         19999,
         4,
         "SHOPPING",
         50000,
         3,
         33999,
         1,
         5
        ],
        [
         "IB14012",
         30,
         "FEMALE",
         "DENTIST",
         "SINGLE",
         3,
         58450,
         27675,
         5,
         "TRAVELLING",
         75000,
         6,
         20876,
         3,
         1
        ],
        [
         "IB14018",
         29,
         "MALE",
         "TEACHER",
         "MARRIED",
         5,
         45767,
         12787,
         3,
         "GOLD LOAN",
         600000,
         7,
         11000,
         0,
         4
        ],
        [
         "IB14022",
         34,
         "MALE",
         "POLICE",
         "SINGLE",
         4,
         43521,
         11999,
         3,
         "AUTOMOBILE",
         200000,
         2,
         43898,
         1,
         2
        ],
        [
         "IB14024",
         55,
         "FEMALE",
         "NURSE",
         "MARRIED",
         6,
         34999,
         19888,
         4,
         "AUTOMOBILE",
         47787,
         1,
         50000,
         0,
         3
        ],
        [
         "IB14025",
         39,
         "FEMALE",
         "TEACHER",
         "MARRIED",
         6,
         46619,
         18675,
         4,
         "HOUSING",
         1209867,
         8,
         29999,
         6,
         8
        ],
        [
         "IB14027",
         51,
         "MALE",
         "SYSTEM MANAGER",
         "MARRIED",
         3,
         49999,
         19111,
         5,
         "RESTAURANTS",
         60676,
         8,
         13000,
         2,
         5
        ],
        [
         "IB14029",
         24,
         "FEMALE",
         "TEACHER",
         "SINGLE",
         3,
         45008,
         17454,
         4,
         "AUTOMOBILE",
         399435,
         9,
         51987,
         4,
         7
        ],
        [
         "IB14031",
         37,
         "FEMALE",
         "SOFTWARE ENGINEER",
         "MARRIED",
         5,
         55999,
         23999,
         5,
         "AUTOMOBILE",
         60999,
         2,
         0,
         5,
         3
        ],
        [
         "IB14032",
         24,
         "MALE",
         "DATA ANALYST",
         "SINGLE",
         4,
         60111,
         28999,
         6,
         "AUTOMOBILE",
         35232,
         5,
         33333,
         1,
         2
        ],
        [
         "IB14034",
         32,
         "MALE",
         "PRODUCT ENGINEER",
         "MARRIED",
         6,
         0,
         29000,
         7,
         "COMPUTER SOFTWARES",
         80660,
         6,
         4500,
         5,
         4
        ],
        [
         "IB14037",
         54,
         "FEMALE",
         "TEACHER",
         "MARRIED",
         5,
         48099,
         19999,
         4,
         "RESTAURANTS",
         30999,
         1,
         12000,
         7,
         5
        ],
        [
         "IB14039",
         45,
         "MALE",
         "ACCOUNT MANAGER",
         "MARRIED",
         7,
         45777,
         18452,
         4,
         "GOLD LOAN",
         987611,
         7,
         39999,
         8,
         1
        ],
        [
         "IB14041",
         59,
         "FEMALE",
         "ASSISTANT PROFESSOR",
         "MARRIED",
         4,
         50999,
         22999,
         5,
         "EDUCATIONAL LOAN",
         599934,
         3,
         9000,
         9,
         9
        ],
        [
         "IB14042",
         25,
         "FEMALE",
         "DOCTOR",
         "SINGLE",
         4,
         60111,
         27111,
         5,
         "TRAVELLING",
         1290929,
         4,
         18000,
         1,
         0
        ],
        [
         "IB14045",
         31,
         "MALE",
         "STORE KEEPER",
         "SINGLE",
         5,
         40999,
         11999,
         3,
         "BOOK STORES",
         167654,
         1,
         4500,
         0,
         1
        ],
        [
         "IB14049",
         49,
         "MALE",
         "BANK MANAGER",
         "MARRIED",
         4,
         45999,
         14500,
         4,
         "TRAVELLING",
         79999,
         4,
         6700,
         7,
         3
        ],
        [
         "IB14050",
         56,
         "MALE",
         "CIVIL ENGINEER",
         "MARRIED",
         4,
         0,
         13999,
         3,
         "HOUSING",
         1065577,
         6,
         19999,
         4,
         2
        ],
        [
         "IB14054",
         58,
         "FEMALE",
         "DOCTOR",
         "MARRIED",
         5,
         60000,
         25000,
         5,
         "HOUSING",
         900000,
         5,
         21000,
         9,
         0
        ],
        [
         "IB14057",
         25,
         "MALE",
         "AIRPORT OFFICER",
         "SINGLE",
         4,
         40000,
         18888,
         3,
         "RESTAURANTS",
         400000,
         8,
         11111,
         1,
         7
        ],
        [
         "IB14060",
         36,
         "FEMALE",
         "CLERK",
         "MARRIED",
         4,
         35000,
         15000,
         3,
         "HOUSING",
         300000,
         2,
         5600,
         4,
         8
        ],
        [
         "IB14070",
         40,
         "MALE",
         "PUBLIC WORKS",
         "MARRIED",
         4,
         38000,
         20000,
         3,
         "GOLD LOAN",
         400000,
         9,
         19954,
         3,
         2
        ],
        [
         "IB14078",
         45,
         "FEMALE",
         "FIRE DEPARTMENT",
         "MARRIED",
         4,
         40000,
         18888,
         4,
         "AUTOMOBILE",
         70000,
         1,
         0,
         2,
         1
        ],
        [
         "IB14079",
         25,
         "MALE",
         "CLERK",
         "SINGLE",
         3,
         35000,
         9000,
         2,
         "GOLD LOAN",
         100000,
         3,
         12584,
         1,
         2
        ],
        [
         "IB14082",
         60,
         "FEMALE",
         "TEACHER",
         "MARRIED",
         5,
         70000,
         40000,
         9,
         "GOLD LOAN",
         257789,
         4,
         10058,
         4,
         3
        ],
        [
         "IB14085",
         30,
         "MALE",
         "ELECTRICIAN",
         "MARRIED",
         4,
         30000,
         15000,
         5,
         "HOUSING",
         354789,
         5,
         32154,
         5,
         5
        ],
        [
         "IB14086",
         51,
         "FEMALE",
         "TECHNICIAN",
         "MARRIED",
         5,
         30000,
         0,
         5,
         "RESTAURANTS",
         125463,
         7,
         52634,
         4,
         10
        ],
        [
         "IB14089",
         25,
         "MALE",
         "PROFESSOR",
         "SINGLE",
         5,
         62145,
         31254,
         4,
         "BOOK STORES",
         1245789,
         6,
         48596,
         6,
         5
        ],
        [
         "IB14092",
         47,
         "MALE",
         "SYSTEM ENGINEER",
         "MARRIED",
         4,
         52364,
         45612,
         3,
         "GOLD LOAN",
         654725,
         4,
         67451,
         5,
         4
        ],
        [
         "1B14093",
         21,
         "FEMALE",
         "MANAGER",
         "SINGLE",
         3,
         42516,
         24567,
         7,
         "AUTOMOBILE",
         2569874,
         8,
         89652,
         2,
         3
        ],
        [
         "1B14094",
         49,
         "MALE",
         "ASSISTANT PROFESSOR",
         "MARRIED",
         5,
         65214,
         42589,
         5,
         "HOUSING",
         985412,
         5,
         11254,
         1,
         2
        ],
        [
         "IB14096",
         33,
         "FEMALE",
         "CLERK",
         "MARRIED",
         3,
         35684,
         15247,
         3,
         "RESTAURANTS",
         1452637,
         3,
         13547,
         3,
         2
        ],
        [
         "IB14099",
         47,
         "FEMALE",
         "DOCTOR",
         "MARRIED",
         4,
         72154,
         45286,
         4,
         "AUTOMOBILE",
         754126,
         2,
         19524,
         5,
         2
        ],
        [
         "IB14101",
         33,
         "FEMALE",
         "PRODUCT ENGINEER",
         "MARRIED",
         5,
         0,
         45812,
         5,
         "AUTOMOBILE",
         852416,
         4,
         17524,
         6,
         3
        ],
        [
         "IB14104",
         54,
         "MALE",
         "AIRPORT OFFICER",
         "MARRIED",
         6,
         80000,
         32541,
         2,
         "AUTOMOBILE",
         2045789,
         1,
         16599,
         2,
         3
        ],
        [
         "IB14106",
         29,
         "MALE",
         "FIRE DEPARTMENT",
         "MARRIED",
         5,
         45213,
         32457,
         9,
         "TRAVELLING",
         1524789,
         7,
         90000,
         2,
         5
        ],
        [
         "IB14107",
         44,
         "FEMALE",
         "ACCOUNT MANAGER",
         "MARRIED",
         4,
         800000,
         15632,
         8,
         "AUTOMOBILE",
         2365478,
         5,
         20145,
         3,
         4
        ],
        [
         "IB14109",
         56,
         "MALE",
         "DRIVER",
         "MARRIED",
         5,
         30000,
         15426,
         7,
         "TRAVELLING",
         921456,
         6,
         20000,
         4,
         6
        ],
        [
         "IB14111",
         57,
         "FEMALE",
         "CORPORATE OFFICER",
         "MARRIED",
         3,
         52143,
         0,
         4,
         "COMPUTER SOFTWARES",
         7541236,
         4,
         11111,
         3,
         2
        ],
        [
         "IB14113",
         49,
         "MALE",
         "ASSISTANT MANAGER",
         "MARRIED",
         7,
         45612,
         39542,
         3,
         "SHOPPING",
         587412,
         7,
         65412,
         3,
         2
        ],
        [
         "IB14115",
         41,
         "MALE",
         "BANK MANAGER",
         "MARRIED",
         6,
         64125,
         21246,
         6,
         "TRAVELLING",
         652147,
         5,
         16524,
         3,
         3
        ],
        [
         "IB14117",
         39,
         "FEMALE",
         "SYSTEM OFFICER",
         "MARRIED",
         6,
         0,
         32541,
         5,
         "EDUCATIONAL LOAN",
         102256,
         3,
         14256,
         4,
         4
        ],
        [
         "IB14120",
         47,
         "FEMALE",
         "TEACHER",
         "MARRIED",
         3,
         50000,
         42563,
         4,
         "RESTAURANTS",
         654120,
         6,
         45127,
         2,
         3
        ],
        [
         "IB14121",
         33,
         "MALE",
         "DOCTOR",
         "MARRIED",
         6,
         70000,
         12541,
         8,
         "HOUSING",
         745213,
         4,
         19541,
         1,
         3
        ],
        [
         "IB14123",
         36,
         "MALE",
         "ELECTRICIAN",
         "MARRIED",
         2,
         36985,
         25648,
         6,
         "AUTOMOBILE",
         985413,
         7,
         20000,
         5,
         3
        ],
        [
         "IB14125",
         29,
         "FEMALE",
         "TEACHER",
         "MARRIED",
         4,
         59999,
         42568,
         4,
         "AUTOMOBILE",
         5214789,
         5,
         17452,
         2,
         2
        ],
        [
         "IB14126",
         57,
         "MALE",
         "FIRE DEPARTMENT",
         "MARRIED",
         5,
         54123,
         0,
         7,
         "RESTAURANTS",
         412365,
         6,
         18524,
         2,
         1
        ],
        [
         "IB14128",
         46,
         "FEMALE",
         "CLERK",
         "MARRIED",
         3,
         750000,
         25641,
         5,
         "GOLD LOAN",
         214569,
         4,
         16324,
         3,
         4
        ],
        [
         "IB14130",
         43,
         "MALE",
         "PRODUCT ENGINEER",
         "MARRIED",
         4,
         50147,
         45863,
         8,
         "COMPUTER SOFTWARES",
         785241,
         8,
         19999,
         3,
         5
        ],
        [
         "IB14134",
         33,
         "MALE",
         "DOCTOR",
         "MARRIED",
         6,
         70000,
         33541,
         8,
         "BUILDING",
         745213,
         4,
         19541,
         1,
         3
        ],
        [
         "IB14136",
         36,
         "MALE",
         "ELECTRICIAN",
         "MARRIED",
         2,
         36985,
         25648,
         6,
         "ELECTRONICS",
         985413,
         7,
         20000,
         5,
         3
        ],
        [
         "IB14138",
         27,
         "FEMALE",
         "SOFTWARE ENGINEER",
         "SINGLE",
         4,
         40000,
         22000,
         4,
         "GOLD LOAN",
         400000,
         4,
         15647,
         5,
         3
        ],
        [
         "IB14140",
         45,
         "MALE",
         "BANK MANAGER",
         "MARRIED",
         6,
         55670,
         32500,
         5,
         "TRAVELLING",
         200560,
         3,
         34600,
         4,
         4
        ],
        [
         "IB14143",
         34,
         "FEMALE",
         "TEACHER",
         "MARRIED",
         4,
         45389,
         0,
         5,
         "HOME APPLIANCES",
         350050,
         4,
         24000,
         4,
         3
        ],
        [
         "IB14145",
         45,
         "FEMALE",
         "CLERK",
         "MARRIED",
         5,
         40560,
         38789,
         6,
         "TRAVELLING",
         785000,
         6,
         29650,
         6,
         7
        ],
        [
         "IB14146",
         56,
         "MALE",
         "FIRE DEPARTMENT",
         "MARRIED",
         6,
         67890,
         34567,
         5,
         "TRAVELLING",
         678500,
         5,
         13560,
         3,
         4
        ],
        [
         "IBI4148",
         46,
         "MALE",
         "SYSTEM OFFICER",
         "MARRIED",
         5,
         56780,
         24560,
         5,
         "GOLD LOAN",
         854000,
         6,
         23700,
         6,
         4
        ],
        [
         "IBI4150",
         38,
         "FEMALE",
         "ACCOUNT MANAGER",
         "MARRIED",
         4,
         45600,
         19870,
         4,
         "HOME APPLIANCES",
         765040,
         5,
         35700,
         5,
         4
        ],
        [
         "IBI4153",
         58,
         "MALE",
         "SYSTEM ENGINEER",
         "MARRIED",
         6,
         76800,
         0,
         5,
         "TRAVELLING",
         1659080,
         6,
         29000,
         5,
         3
        ],
        [
         "IBI4155",
         24,
         "FEMALE",
         "SOFTWARE ENGINEER",
         "SINGLE",
         4,
         55680,
         29000,
         5,
         "AUTOMOBILE",
         789000,
         5,
         24000,
         6,
         4
        ],
        [
         "IBI4157",
         35,
         "MALE",
         "BANK MANAGER",
         "MARRIED",
         4,
         930000,
         35680,
         6,
         "HOUSING",
         679040,
         5,
         34000,
         5,
         5
        ],
        [
         "IB14158",
         54,
         "MALE",
         "AIRPORT OFFICER",
         "MARRIED",
         6,
         80000,
         62541,
         2,
         "AUTOMOBILE",
         2045789,
         1,
         16599,
         2,
         3
        ],
        [
         "IB14160",
         29,
         "MALE",
         "FIRE DEPARTMENT",
         "MARRIED",
         5,
         45213,
         32457,
         9,
         "TRAVELLING",
         1524789,
         7,
         90000,
         2,
         5
        ],
        [
         "IB14163",
         44,
         "FEMALE",
         "ACCOUNT MANAGER",
         "MARRIED",
         4,
         800000,
         15632,
         8,
         "COMPUTER SOFTWARES",
         2365478,
         5,
         20145,
         3,
         4
        ],
        [
         "IB14164",
         56,
         "MALE",
         "DRIVER",
         "MARRIED",
         5,
         30000,
         15426,
         7,
         "TRAVELLING",
         921456,
         6,
         20000,
         4,
         6
        ],
        [
         "IB14167",
         57,
         "FEMALE",
         "CORPORATE OFFICER",
         "MARRIED",
         3,
         52143,
         0,
         4,
         "AUTOMOBILE",
         7541236,
         4,
         11111,
         3,
         2
        ],
        [
         "IB14169",
         49,
         "MALE",
         "ASSISTANT MANAGER",
         "MARRIED",
         7,
         45612,
         39542,
         3,
         "SHOPPING",
         587412,
         7,
         65412,
         3,
         2
        ],
        [
         "IB14171",
         47,
         "FEMALE",
         "DOCTOR",
         "MARRIED",
         4,
         72154,
         45286,
         4,
         "AUTOMOBILE",
         754126,
         2,
         19524,
         5,
         2
        ],
        [
         "IB14173",
         33,
         "FEMALE",
         "PRODUCT ENGINEER",
         "MARRIED",
         5,
         0,
         45812,
         5,
         "SHOPPING",
         852416,
         4,
         17524,
         6,
         3
        ],
        [
         "IB14176",
         54,
         "MALE",
         "AIRPORT OFFICER",
         "MARRIED",
         6,
         80000,
         62541,
         2,
         "HOUSING",
         2045789,
         1,
         16599,
         2,
         3
        ],
        [
         "IB14178",
         51,
         "MALE",
         "SYSTEM MANAGER",
         "MARRIED",
         3,
         49999,
         19111,
         5,
         "ELECTRONICS",
         60676,
         8,
         13000,
         2,
         5
        ],
        [
         "IB14179",
         24,
         "FEMALE",
         "TEACHER",
         "SINGLE",
         3,
         45008,
         17454,
         4,
         "AUTOMOBILE",
         399435,
         9,
         51987,
         4,
         7
        ],
        [
         "IB14181",
         37,
         "FEMALE",
         "SOFTWARE ENGINEER",
         "MARRIED",
         5,
         55999,
         23999,
         5,
         "HOME APPLIANCES",
         60999,
         2,
         0,
         5,
         3
        ],
        [
         "IB14184",
         24,
         "MALE",
         "DATA ANALYST",
         "SINGLE",
         4,
         60111,
         28999,
         6,
         "RESTAURANTS",
         35232,
         5,
         33333,
         1,
         2
        ],
        [
         "IB14186",
         44,
         "MALE",
         "PROFESSOR",
         "MARRIED",
         6,
         59000,
         19999,
         4,
         "AUTOMOBILE",
         50000,
         3,
         33999,
         1,
         5
        ],
        [
         "IB14187",
         30,
         "FEMALE",
         "DENTIST",
         "SINGLE",
         3,
         58450,
         27675,
         5,
         "TRAVELLING",
         75000,
         6,
         20876,
         3,
         1
        ],
        [
         "IB14189",
         29,
         "MALE",
         "TEACHER",
         "MARRIED",
         5,
         45767,
         12787,
         3,
         "GOLD LOAN",
         600000,
         7,
         11000,
         0,
         4
        ],
        [
         "IB14191",
         34,
         "MALE",
         "POLICE",
         "SINGLE",
         4,
         44521,
         11999,
         3,
         "AUTOMOBILE",
         200000,
         2,
         43898,
         1,
         2
        ],
        [
         "IB14194",
         55,
         "FEMALE",
         "NURSE",
         "MARRIED",
         6,
         34999,
         19888,
         4,
         "TRAVELLING",
         47787,
         1,
         50000,
         0,
         3
        ],
        [
         "IB14195",
         32,
         "MALE",
         "PRODUCT ENGINEER",
         "MARRIED",
         6,
         0,
         29000,
         7,
         "SHOPPING",
         80660,
         6,
         4500,
         5,
         4
        ],
        [
         "IB14197",
         54,
         "FEMALE",
         "TEACHER",
         "MARRIED",
         5,
         48099,
         19999,
         4,
         "RESTAURANTS",
         300999,
         1,
         12000,
         7,
         5
        ],
        [
         "IB14199",
         45,
         "MALE",
         "ACCOUNT MANAGER",
         "MARRIED",
         7,
         45777,
         18452,
         4,
         "GOLD LOAN",
         987611,
         7,
         39999,
         8,
         1
        ],
        [
         "IB14201",
         59,
         "FEMALE",
         "ASSISTANT PROFESSOR",
         "MARRIED",
         4,
         60999,
         22999,
         5,
         "AUTOMOBILE",
         599934,
         3,
         9000,
         9,
         9
        ],
        [
         "IBI4202",
         35,
         "MALE",
         "BANK MANAGER",
         "MARRIED",
         4,
         67500,
         25780,
         6,
         "AUTOMOBILE",
         679040,
         5,
         34000,
         5,
         5
        ],
        [
         "IB14204",
         54,
         "MALE",
         "AIRPORT OFFICER",
         "MARRIED",
         6,
         81000,
         62541,
         2,
         "DINNING",
         2045789,
         1,
         16599,
         2,
         3
        ],
        [
         "IB14206",
         51,
         "MALE",
         "SYSTEM MANAGER",
         "MARRIED",
         3,
         39999,
         19111,
         5,
         "AUTOMOBILE",
         60676,
         8,
         13000,
         2,
         5
        ],
        [
         "IB14208",
         36,
         "FEMALE",
         "CLERK",
         "MARRIED",
         4,
         45300,
         15000,
         3,
         "HOUSING",
         300000,
         2,
         5600,
         4,
         8
        ],
        [
         "IB14210",
         40,
         "MALE",
         "PUBLIC WORKS",
         "MARRIED",
         4,
         38000,
         20000,
         3,
         "GOLD LOAN",
         400000,
         9,
         19954,
         3,
         2
        ],
        [
         "IB14213",
         31,
         "MALE",
         "STORE KEEPER",
         "SINGLE",
         5,
         40999,
         11999,
         3,
         "AUTOMOBILE",
         167654,
         1,
         4500,
         0,
         1
        ],
        [
         "IB14215",
         49,
         "MALE",
         "BANK MANAGER",
         "MARRIED",
         4,
         45999,
         14500,
         4,
         "TRAVELLING",
         79999,
         4,
         6700,
         7,
         3
        ],
        [
         "IB14216",
         24,
         "MALE",
         "DATA ANALYST",
         "SINGLE",
         4,
         60111,
         28999,
         6,
         "RESTAURANTS",
         35232,
         5,
         33333,
         1,
         2
        ],
        [
         "IB14218",
         44,
         "MALE",
         "PROFESSOR",
         "MARRIED",
         6,
         51000,
         19999,
         4,
         "SHOPPING",
         50000,
         3,
         33999,
         1,
         5
        ],
        [
         "IB14220",
         30,
         "FEMALE",
         "DENTIST",
         "SINGLE",
         3,
         58450,
         27675,
         5,
         "TRAVELLING",
         75000,
         6,
         20876,
         3,
         1
        ],
        [
         "IB14221",
         31,
         "MALE",
         "STORE KEEPER",
         "SINGLE",
         5,
         40999,
         11999,
         3,
         "BOOK STORES",
         167654,
         1,
         4500,
         0,
         1
        ],
        [
         "IB14224",
         49,
         "MALE",
         "BANK MANAGER",
         "MARRIED",
         4,
         45999,
         14500,
         4,
         "HOME APPLIANCES",
         79999,
         4,
         6700,
         7,
         3
        ],
        [
         "IB14225",
         56,
         "MALE",
         "CIVIL ENGINEER",
         "MARRIED",
         4,
         0,
         13999,
         3,
         "HOUSING",
         1065577,
         6,
         19999,
         4,
         2
        ],
        [
         "IB14227",
         54,
         "MALE",
         "AIRPORT OFFICER",
         "MARRIED",
         6,
         80000,
         62541,
         2,
         "HOUSING",
         2045789,
         1,
         16599,
         2,
         3
        ],
        [
         "IB14229",
         51,
         "MALE",
         "SYSTEM MANAGER",
         "MARRIED",
         3,
         49999,
         19111,
         5,
         "ELECTRONICS",
         60676,
         8,
         13000,
         2,
         5
        ],
        [
         "IB14231",
         24,
         "FEMALE",
         "TEACHER",
         "SINGLE",
         3,
         45008,
         17454,
         4,
         "AUTOMOBILE",
         399435,
         9,
         51987,
         4,
         7
        ]
       ],
       "datasetInfos": [],
       "dbfsResultPath": null,
       "isJsonSchema": true,
       "metadata": {
        "dataframeName": "_sqldf",
        "executionCount": 66
       },
       "overflow": false,
       "plotOptions": {
        "customPlotOptions": {},
        "displayType": "table",
        "pivotAggregation": null,
        "pivotColumns": null,
        "xColumns": null,
        "yColumns": null
       },
       "removedWidgets": [],
       "schema": [
        {
         "metadata": "{}",
         "name": "Customer_ID",
         "type": "\"string\""
        },
        {
         "metadata": "{}",
         "name": "Age",
         "type": "\"long\""
        },
        {
         "metadata": "{}",
         "name": "Gender",
         "type": "\"string\""
        },
        {
         "metadata": "{}",
         "name": "Occupation",
         "type": "\"string\""
        },
        {
         "metadata": "{}",
         "name": "MaritalStatus",
         "type": "\"string\""
        },
        {
         "metadata": "{}",
         "name": "FamilySize",
         "type": "\"long\""
        },
        {
         "metadata": "{}",
         "name": "Income",
         "type": "\"long\""
        },
        {
         "metadata": "{}",
         "name": "Expenditure",
         "type": "\"long\""
        },
        {
         "metadata": "{}",
         "name": "UseFrequency",
         "type": "\"long\""
        },
        {
         "metadata": "{}",
         "name": "LoanCategory",
         "type": "\"string\""
        },
        {
         "metadata": "{}",
         "name": "LoanAmount",
         "type": "\"long\""
        },
        {
         "metadata": "{}",
         "name": "Overdue",
         "type": "\"long\""
        },
        {
         "metadata": "{}",
         "name": "DebtRecord",
         "type": "\"long\""
        },
        {
         "metadata": "{}",
         "name": "ReturnedCheque",
         "type": "\"long\""
        },
        {
         "metadata": "{}",
         "name": "DishonourOfBill",
         "type": "\"long\""
        }
       ],
       "type": "table"
      }
     },
     "output_type": "display_data"
    }
   ],
   "source": [
    "%sql\n",
    "use catalog `hive_metastore`; select * from `default`.`loan_df_to_csv` limit 100;"
   ]
  },
  {
   "cell_type": "code",
   "execution_count": 0,
   "metadata": {
    "application/vnd.databricks.v1+cell": {
     "cellMetadata": {
      "byteLimit": 2048000,
      "rowLimit": 10000
     },
     "inputWidgets": {},
     "nuid": "e14d147a-694f-4e95-a8ca-f48b9687d060",
     "showTitle": false,
     "title": ""
    },
    "scrolled": false
   },
   "outputs": [
    {
     "output_type": "stream",
     "name": "stdout",
     "output_type": "stream",
     "text": [
      "+-----------+---+------+---------------+-------------+----------+------+-----------+------------+------------+----------+-------+----------+--------------+---------------+\n|Customer_ID|Age|Gender|     Occupation|MaritalStatus|FamilySize|Income|Expenditure|UseFrequency|LoanCategory|LoanAmount|Overdue|DebtRecord|ReturnedCheque|DishonourOfBill|\n+-----------+---+------+---------------+-------------+----------+------+-----------+------------+------------+----------+-------+----------+--------------+---------------+\n|    IB14158| 54|  MALE|AIRPORT OFFICER|      MARRIED|         6| 80000|      62541|           2|  AUTOMOBILE|   2045789|      1|     16599|             2|              3|\n|    IB14176| 54|  MALE|AIRPORT OFFICER|      MARRIED|         6| 80000|      62541|           2|     HOUSING|   2045789|      1|     16599|             2|              3|\n|    IB14204| 54|  MALE|AIRPORT OFFICER|      MARRIED|         6| 81000|      62541|           2|     DINNING|   2045789|      1|     16599|             2|              3|\n|    IB14227| 54|  MALE|AIRPORT OFFICER|      MARRIED|         6| 80000|      62541|           2|     HOUSING|   2045789|      1|     16599|             2|              3|\n|    IB14278| 41|  MALE|   BANK MANAGER|      MARRIED|         6| 64125|      51246|           6|  TRAVELLING|    652147|      5|     16524|             3|              3|\n|    IB15024| 26|  MALE|      DIETICIAN|       SINGLE|         3| 95425|      53086|           2|     HOUSING|    488076|      4|     61227|             5|              2|\n+-----------+---+------+---------------+-------------+----------+------+-----------+------------+------------+----------+-------+----------+--------------+---------------+\n\nNone\n"
     ]
    }
   ],
   "source": [
    "# find the  number of people with expenditure over 50000 a month \n",
    "print(df.filter(df.Expenditure > 50000).show())"
   ]
  },
  {
   "cell_type": "markdown",
   "metadata": {
    "application/vnd.databricks.v1+cell": {
     "cellMetadata": {},
     "inputWidgets": {},
     "nuid": "f0e61af4-85d7-48c8-8b22-458ae0893dcf",
     "showTitle": false,
     "title": ""
    }
   },
   "source": [
    "# CREDIT CARD DATASET #"
   ]
  },
  {
   "cell_type": "code",
   "execution_count": 0,
   "metadata": {
    "application/vnd.databricks.v1+cell": {
     "cellMetadata": {
      "byteLimit": 2048000,
      "rowLimit": 10000
     },
     "inputWidgets": {},
     "nuid": "db638b63-7e08-4c0f-a3f2-6aa0ebf07727",
     "showTitle": false,
     "title": ""
    }
   },
   "outputs": [
    {
     "output_type": "stream",
     "name": "stdout",
     "output_type": "stream",
     "text": [
      "+---------+----------+---------+-----------+---------+------+---+------+---------+-------------+--------------+---------------+------+\n|RowNumber|CustomerId|  Surname|CreditScore|Geography|Gender|Age|Tenure|  Balance|NumOfProducts|IsActiveMember|EstimatedSalary|Exited|\n+---------+----------+---------+-----------+---------+------+---+------+---------+-------------+--------------+---------------+------+\n|        1|  15634602| Hargrave|        619|   France|Female| 42|     2|      0.0|            1|             1|      101348.88|     1|\n|        2|  15647311|     Hill|        608|    Spain|Female| 41|     1| 83807.86|            1|             1|      112542.58|     0|\n|        3|  15619304|     Onio|        502|   France|Female| 42|     8| 159660.8|            3|             0|      113931.57|     1|\n|        4|  15701354|     Boni|        699|   France|Female| 39|     1|      0.0|            2|             0|       93826.63|     0|\n|        5|  15737888| Mitchell|        850|    Spain|Female| 43|     2|125510.82|            1|             1|        79084.1|     0|\n|        6|  15574012|      Chu|        645|    Spain|  Male| 44|     8|113755.78|            2|             0|      149756.71|     1|\n|        7|  15592531| Bartlett|        822|   France|  Male| 50|     7|      0.0|            2|             1|        10062.8|     0|\n|        8|  15656148|   Obinna|        376|  Germany|Female| 29|     4|115046.74|            4|             0|      119346.88|     1|\n|        9|  15792365|       He|        501|   France|  Male| 44|     4|142051.07|            2|             1|        74940.5|     0|\n|       10|  15592389|       H?|        684|   France|  Male| 27|     2|134603.88|            1|             1|       71725.73|     0|\n|       11|  15767821|   Bearce|        528|   France|  Male| 31|     6|102016.72|            2|             0|       80181.12|     0|\n|       12|  15737173|  Andrews|        497|    Spain|  Male| 24|     3|      0.0|            2|             0|       76390.01|     0|\n|       13|  15632264|      Kay|        476|   France|Female| 34|    10|      0.0|            2|             0|       26260.98|     0|\n|       14|  15691483|     Chin|        549|   France|Female| 25|     5|      0.0|            2|             0|      190857.79|     0|\n|       15|  15600882|    Scott|        635|    Spain|Female| 35|     7|      0.0|            2|             1|       65951.65|     0|\n|       16|  15643966|  Goforth|        616|  Germany|  Male| 45|     3|143129.41|            2|             1|       64327.26|     0|\n|       17|  15737452|    Romeo|        653|  Germany|  Male| 58|     1|132602.88|            1|             0|        5097.67|     1|\n|       18|  15788218|Henderson|        549|    Spain|Female| 24|     9|      0.0|            2|             1|       14406.41|     0|\n|       19|  15661507|  Muldrow|        587|    Spain|  Male| 45|     6|      0.0|            1|             0|      158684.81|     0|\n|       20|  15568982|      Hao|        726|   France|Female| 24|     6|      0.0|            2|             1|       54724.03|     0|\n+---------+----------+---------+-----------+---------+------+---+------+---------+-------------+--------------+---------------+------+\nonly showing top 20 rows\n\n"
     ]
    }
   ],
   "source": [
    "# Load the credit card dataset\n",
    "\n",
    "file_cc_path = 'dbfs:/user/hive/warehouse/credit_card'\n",
    "file_type = \"delta\"\n",
    "\n",
    "# The applied options are for CSV files. For other file types, these will be ignored.\n",
    "df_cc = spark.read.format(file_type).load(file_cc_path)\n",
    "  \n",
    "df_cc.show()\n"
   ]
  },
  {
   "cell_type": "code",
   "execution_count": 0,
   "metadata": {
    "application/vnd.databricks.v1+cell": {
     "cellMetadata": {
      "byteLimit": 2048000,
      "rowLimit": 10000
     },
     "inputWidgets": {},
     "nuid": "96841bf6-f55f-4c9e-b48f-fe3a555612ab",
     "showTitle": false,
     "title": ""
    },
    "scrolled": true
   },
   "outputs": [
    {
     "output_type": "stream",
     "name": "stdout",
     "output_type": "stream",
     "text": [
      "root\n |-- RowNumber: long (nullable = true)\n |-- CustomerId: long (nullable = true)\n |-- Surname: string (nullable = true)\n |-- CreditScore: long (nullable = true)\n |-- Geography: string (nullable = true)\n |-- Gender: string (nullable = true)\n |-- Age: long (nullable = true)\n |-- Tenure: long (nullable = true)\n |-- Balance: double (nullable = true)\n |-- NumOfProducts: long (nullable = true)\n |-- IsActiveMember: long (nullable = true)\n |-- EstimatedSalary: double (nullable = true)\n |-- Exited: long (nullable = true)\n\n"
     ]
    }
   ],
   "source": [
    "# Print the schema of the credit card dataset\n",
    "df_cc.printSchema()"
   ]
  },
  {
   "cell_type": "code",
   "execution_count": 0,
   "metadata": {
    "application/vnd.databricks.v1+cell": {
     "cellMetadata": {
      "byteLimit": 2048000,
      "rowLimit": 10000
     },
     "inputWidgets": {},
     "nuid": "6efcef4a-46b0-4b6e-94cc-89bed0795600",
     "showTitle": false,
     "title": ""
    }
   },
   "outputs": [
    {
     "output_type": "stream",
     "name": "stdout",
     "output_type": "stream",
     "text": [
      "13\n"
     ]
    }
   ],
   "source": [
    "# Print the number of columns in the credit card dataset\n",
    "print(len(df_cc.columns))"
   ]
  },
  {
   "cell_type": "code",
   "execution_count": 0,
   "metadata": {
    "application/vnd.databricks.v1+cell": {
     "cellMetadata": {
      "byteLimit": 2048000,
      "rowLimit": 10000
     },
     "inputWidgets": {},
     "nuid": "b00edb8d-d853-43e4-81b6-f819afd09316",
     "showTitle": false,
     "title": ""
    }
   },
   "outputs": [
    {
     "output_type": "stream",
     "name": "stdout",
     "output_type": "stream",
     "text": [
      "10000\n"
     ]
    }
   ],
   "source": [
    "# Print the number of rows in the credit card dataset\n",
    "print(df_cc.count())"
   ]
  },
  {
   "cell_type": "code",
   "execution_count": 0,
   "metadata": {
    "application/vnd.databricks.v1+cell": {
     "cellMetadata": {
      "byteLimit": 2048000,
      "rowLimit": 10000
     },
     "inputWidgets": {},
     "nuid": "ebb542fe-274a-4274-b99f-0aaf4b70ad5b",
     "showTitle": false,
     "title": ""
    }
   },
   "outputs": [
    {
     "output_type": "stream",
     "name": "stdout",
     "output_type": "stream",
     "text": [
      "10000\n"
     ]
    }
   ],
   "source": [
    "# Print the number of distinct records in the credit card dataset\n",
    "print(df_cc.distinct().count())"
   ]
  },
  {
   "cell_type": "code",
   "execution_count": 0,
   "metadata": {
    "application/vnd.databricks.v1+cell": {
     "cellMetadata": {
      "byteLimit": 2048000,
      "rowLimit": 10000
     },
     "inputWidgets": {},
     "nuid": "6233ad3f-771c-4b5e-bb70-35cfe0d869da",
     "showTitle": false,
     "title": ""
    }
   },
   "outputs": [
    {
     "output_type": "stream",
     "name": "stdout",
     "output_type": "stream",
     "text": [
      "+---------+----------+--------+-----------+---------+------+---+------+---------+-------------+--------------+---------------+------+\n|RowNumber|CustomerId| Surname|CreditScore|Geography|Gender|Age|Tenure|  Balance|NumOfProducts|IsActiveMember|EstimatedSalary|Exited|\n+---------+----------+--------+-----------+---------+------+---+------+---------+-------------+--------------+---------------+------+\n|        1|  15634602|Hargrave|        619|   France|Female| 42|     2|      0.0|            1|             1|      101348.88|     1|\n|        2|  15647311|    Hill|        608|    Spain|Female| 41|     1| 83807.86|            1|             1|      112542.58|     0|\n|        3|  15619304|    Onio|        502|   France|Female| 42|     8| 159660.8|            3|             0|      113931.57|     1|\n|        4|  15701354|    Boni|        699|   France|Female| 39|     1|      0.0|            2|             0|       93826.63|     0|\n|        5|  15737888|Mitchell|        850|    Spain|Female| 43|     2|125510.82|            1|             1|        79084.1|     0|\n+---------+----------+--------+-----------+---------+------+---+------+---------+-------------+--------------+---------------+------+\nonly showing top 5 rows\n\nNone\n"
     ]
    }
   ],
   "source": [
    "# Print the first 5 rows in the credit card dataset\n",
    "print(df_cc.show(5))"
   ]
  },
  {
   "cell_type": "code",
   "execution_count": 0,
   "metadata": {
    "application/vnd.databricks.v1+cell": {
     "cellMetadata": {
      "byteLimit": 2048000,
      "rowLimit": 10000
     },
     "inputWidgets": {},
     "nuid": "e9681593-ac93-4ec4-bcea-af845988c66f",
     "showTitle": false,
     "title": ""
    },
    "scrolled": true
   },
   "outputs": [
    {
     "output_type": "stream",
     "name": "stdout",
     "output_type": "stream",
     "text": [
      "7963\n"
     ]
    }
   ],
   "source": [
    "# Find the number of members who are elgible for credit card\n",
    "print(df_cc.filter(df_cc.Exited == 0).count())"
   ]
  },
  {
   "cell_type": "code",
   "execution_count": 0,
   "metadata": {
    "application/vnd.databricks.v1+cell": {
     "cellMetadata": {
      "byteLimit": 2048000,
      "rowLimit": 10000
     },
     "inputWidgets": {},
     "nuid": "47a2b23e-dbf7-4801-8a35-25dbede87f14",
     "showTitle": false,
     "title": ""
    }
   },
   "outputs": [
    {
     "output_type": "stream",
     "name": "stdout",
     "output_type": "stream",
     "text": [
      "4416\n"
     ]
    }
   ],
   "source": [
    "# Find the number of members who are  elgible and active in the bank\n",
    "print(df_cc.filter((df_cc.Exited == 0) & (df_cc.IsActiveMember == 1)).count())"
   ]
  },
  {
   "cell_type": "code",
   "execution_count": 0,
   "metadata": {
    "application/vnd.databricks.v1+cell": {
     "cellMetadata": {
      "byteLimit": 2048000,
      "rowLimit": 10000
     },
     "inputWidgets": {},
     "nuid": "ff1bfb8d-434f-47de-a96b-973929cf7766",
     "showTitle": false,
     "title": ""
    }
   },
   "outputs": [
    {
     "output_type": "stream",
     "name": "stdout",
     "output_type": "stream",
     "text": [
      "+---------+----------+---------+-----------+---------+------+---+------+---------+-------------+--------------+---------------+------+\n|RowNumber|CustomerId|  Surname|CreditScore|Geography|Gender|Age|Tenure|  Balance|NumOfProducts|IsActiveMember|EstimatedSalary|Exited|\n+---------+----------+---------+-----------+---------+------+---+------+---------+-------------+--------------+---------------+------+\n|        2|  15647311|     Hill|        608|    Spain|Female| 41|     1| 83807.86|            1|             1|      112542.58|     0|\n|        5|  15737888| Mitchell|        850|    Spain|Female| 43|     2|125510.82|            1|             1|        79084.1|     0|\n|        6|  15574012|      Chu|        645|    Spain|  Male| 44|     8|113755.78|            2|             0|      149756.71|     1|\n|       12|  15737173|  Andrews|        497|    Spain|  Male| 24|     3|      0.0|            2|             0|       76390.01|     0|\n|       15|  15600882|    Scott|        635|    Spain|Female| 35|     7|      0.0|            2|             1|       65951.65|     0|\n|       18|  15788218|Henderson|        549|    Spain|Female| 24|     9|      0.0|            2|             1|       14406.41|     0|\n|       19|  15661507|  Muldrow|        587|    Spain|  Male| 45|     6|      0.0|            1|             0|      158684.81|     0|\n|       22|  15597945| Dellucci|        636|    Spain|Female| 32|     8|      0.0|            2|             0|      138555.46|     0|\n|       23|  15699309|Gerasimov|        510|    Spain|Female| 38|     4|      0.0|            1|             0|      118913.53|     1|\n|       31|  15589475|  Azikiwe|        591|    Spain|Female| 39|     3|      0.0|            3|             0|      140469.38|     1|\n|       34|  15659428|  Maggard|        520|    Spain|Female| 42|     6|      0.0|            2|             1|       34410.55|     0|\n|       35|  15732963| Clements|        722|    Spain|Female| 29|     9|      0.0|            2|             1|      142033.07|     0|\n|       37|  15788448|   Watson|        490|    Spain|  Male| 31|     3|145260.23|            1|             1|      114066.77|     0|\n|       38|  15729599|  Lorenzo|        804|    Spain|  Male| 33|     7|  76548.6|            1|             1|       98453.45|     0|\n|       41|  15619360|    Hsiao|        472|    Spain|  Male| 40|     4|      0.0|            1|             0|       70154.22|     0|\n|       45|  15684171|  Bianchi|        660|    Spain|Female| 61|     5|155931.11|            1|             1|      158338.39|     0|\n|       59|  15623944|    T'ien|        511|    Spain|Female| 66|     4|      0.0|            1|             0|        1643.11|     1|\n|       63|  15702014|  Jeffrey|        555|    Spain|  Male| 33|     1| 56084.69|            2|             0|      178798.13|     0|\n|       64|  15751208|  Pirozzi|        684|    Spain|  Male| 56|     8| 78707.16|            1|             1|       99398.36|     0|\n|       73|  15812518|  Palermo|        657|    Spain|Female| 37|     0|163607.18|            1|             1|       44203.55|     0|\n+---------+----------+---------+-----------+---------+------+---+------+---------+-------------+--------------+---------------+------+\nonly showing top 20 rows\n\nNone\n"
     ]
    }
   ],
   "source": [
    "# Find the credit card users in Spain \n",
    "print(df_cc.filter(df_cc.Geography == 'Spain').show())"
   ]
  },
  {
   "cell_type": "code",
   "execution_count": 0,
   "metadata": {
    "application/vnd.databricks.v1+cell": {
     "cellMetadata": {
      "byteLimit": 2048000,
      "rowLimit": 10000
     },
     "inputWidgets": {},
     "nuid": "74f31407-f0bc-41d0-b232-daf9d698a3d1",
     "showTitle": false,
     "title": ""
    }
   },
   "outputs": [
    {
     "output_type": "stream",
     "name": "stdout",
     "output_type": "stream",
     "text": [
      "1044\n"
     ]
    }
   ],
   "source": [
    "# Find the credit card users with Estiamted Salary greater than 100000 and have exited the card\n",
    "print(df_cc.filter((df_cc.EstimatedSalary > 100000) & (df_cc.Exited == 1)).count())"
   ]
  },
  {
   "cell_type": "code",
   "execution_count": 0,
   "metadata": {
    "application/vnd.databricks.v1+cell": {
     "cellMetadata": {
      "byteLimit": 2048000,
      "rowLimit": 10000
     },
     "inputWidgets": {},
     "nuid": "e654bfce-00b2-4510-a44e-d91ac7b7acd8",
     "showTitle": false,
     "title": ""
    },
    "scrolled": false
   },
   "outputs": [
    {
     "output_type": "stream",
     "name": "stdout",
     "output_type": "stream",
     "text": [
      "2432\n"
     ]
    }
   ],
   "source": [
    "# Find the credit card users with Estiamted Salary less than 100000 and have more than 1 products\n",
    "print(df_cc.filter((df_cc.EstimatedSalary < 100000) & (df_cc.NumOfProducts > 1)).count())"
   ]
  },
  {
   "cell_type": "markdown",
   "metadata": {
    "application/vnd.databricks.v1+cell": {
     "cellMetadata": {},
     "inputWidgets": {},
     "nuid": "7c7d3132-06fc-48c1-af92-89b7968bc170",
     "showTitle": false,
     "title": ""
    }
   },
   "source": [
    "# TRANSACTION DATASET #"
   ]
  },
  {
   "cell_type": "code",
   "execution_count": 0,
   "metadata": {
    "application/vnd.databricks.v1+cell": {
     "cellMetadata": {
      "byteLimit": 2048000,
      "rowLimit": 10000
     },
     "inputWidgets": {},
     "nuid": "c0dee25f-e929-4e47-8afa-8f6467742f68",
     "showTitle": false,
     "title": ""
    }
   },
   "outputs": [
    {
     "output_type": "stream",
     "name": "stdout",
     "output_type": "stream",
     "text": [
      "+------------+--------------------+----------+------------+----------+----------+\n|   AccountNo|  TransactionDetails| ValueDate|WithdrawlAmt|DepositAmt|BalanceAmt|\n+------------+--------------------+----------+------------+----------+----------+\n|409000611074|TRF FROM  Indiafo...|2017-06-29|        NULL|   1000000|   1000000|\n|409000611074|TRF FROM  Indiafo...|2017-07-05|        NULL|   1000000|   2000000|\n|409000611074|FDRL/INTERNAL FUN...|2017-07-18|        NULL|    500000|   2500000|\n|409000611074|TRF FRM  Indiafor...|2017-08-01|        NULL|   3000000|   5500000|\n|409000611074|FDRL/INTERNAL FUN...|2017-08-16|        NULL|    500000|   6000000|\n|409000611074|FDRL/INTERNAL FUN...|2017-08-16|        NULL|    500000|   6500000|\n|409000611074|FDRL/INTERNAL FUN...|2017-08-16|        NULL|    500000|   7000000|\n|409000611074|FDRL/INTERNAL FUN...|2017-08-16|        NULL|    500000|   7500000|\n|409000611074|FDRL/INTERNAL FUN...|2017-08-16|        NULL|    500000|   8000000|\n|409000611074|FDRL/INTERNAL FUN...|2017-08-16|        NULL|    500000|   8500000|\n|409000611074|INDO GIBL Indiafo...|2017-08-16|      133900|      NULL|   8366100|\n|409000611074|INDO GIBL Indiafo...|2017-08-16|       18000|      NULL|   8348100|\n|409000611074|INDO GIBL Indiafo...|2017-08-16|        5000|      NULL|   8343100|\n|409000611074|INDO GIBL Indiafo...|2017-08-16|      195800|      NULL|   8147300|\n|409000611074|INDO GIBL Indiafo...|2017-08-16|       81600|      NULL|   8065700|\n|409000611074|INDO GIBL Indiafo...|2017-08-16|       41800|      NULL|   8023900|\n|409000611074|INDO GIBL Indiafo...|2017-08-16|       98500|      NULL|   7925400|\n|409000611074|INDO GIBL Indiafo...|2017-08-16|      143800|      NULL|   7781600|\n|409000611074|INDO GIBL Indiafo...|2017-08-16|      331650|      NULL|   7449950|\n|409000611074|INDO GIBL Indiafo...|2017-08-16|      129000|      NULL|   7320950|\n+------------+--------------------+----------+------------+----------+----------+\nonly showing top 20 rows\n\n"
     ]
    }
   ],
   "source": [
    "# Load the transacton dataset\n",
    "\n",
    "file_txn_path = 'dbfs:/user/hive/warehouse/txn_updated'\n",
    "file_type = 'delta'\n",
    "\n",
    "df_t = spark.read.format(file_type).load(file_txn_path)\n",
    "\n",
    "df_t = df_t.withColumnRenamed(\"TRANSACTION DETAILS\", \"TransactionDetails\")\\\n",
    "           .withColumnRenamed(\"VALUE DATE\", \"ValueDate\")\\\n",
    "           .withColumnRenamed(\"WITHDRAWAL AMT\", \"WithdrawlAmt\")\\\n",
    "           .withColumnRenamed(\"DEPOSIT AMT\", \"DepositAmt\")\\\n",
    "           .withColumnRenamed(\"BALANCE AMT\", \"BalanceAmt\")\n",
    "df_t.show()"
   ]
  },
  {
   "cell_type": "code",
   "execution_count": 0,
   "metadata": {
    "application/vnd.databricks.v1+cell": {
     "cellMetadata": {
      "byteLimit": 2048000,
      "rowLimit": 10000
     },
     "inputWidgets": {},
     "nuid": "76ac1e93-6b64-4f18-994d-62002fcf4f57",
     "showTitle": false,
     "title": ""
    }
   },
   "outputs": [
    {
     "output_type": "stream",
     "name": "stdout",
     "output_type": "stream",
     "text": [
      "root\n |-- AccountNo: long (nullable = true)\n |-- TransactionDetails: string (nullable = true)\n |-- ValueDate: date (nullable = true)\n |-- WithdrawlAmt: long (nullable = true)\n |-- DepositAmt: long (nullable = true)\n |-- BalanceAmt: long (nullable = true)\n\nNone\n"
     ]
    }
   ],
   "source": [
    "# Print the schema of the transacton dataset\n",
    "print(df_t.printSchema())"
   ]
  },
  {
   "cell_type": "code",
   "execution_count": 0,
   "metadata": {
    "application/vnd.databricks.v1+cell": {
     "cellMetadata": {
      "byteLimit": 2048000,
      "rowLimit": 10000
     },
     "inputWidgets": {},
     "nuid": "1c171b91-adaf-4a08-90b4-83cd3ad0eaf8",
     "showTitle": false,
     "title": ""
    }
   },
   "outputs": [
    {
     "output_type": "stream",
     "name": "stdout",
     "output_type": "stream",
     "text": [
      "+------------+-----+\n|   AccountNo|count|\n+------------+-----+\n|409000405747|   51|\n|409000438611| 4588|\n|409000611074| 1093|\n|409000425051|  802|\n|     1196711|10536|\n|409000493210| 6014|\n|     1196428|48779|\n|409000493201| 1044|\n|409000438620|13454|\n|409000362497|29840|\n+------------+-----+\n\n"
     ]
    }
   ],
   "source": [
    "#COUNT OF TRANSACTION ON EVERY ACCOUNT\n",
    "df_t.groupBy('AccountNo').count().show()"
   ]
  },
  {
   "cell_type": "code",
   "execution_count": 0,
   "metadata": {
    "application/vnd.databricks.v1+cell": {
     "cellMetadata": {
      "byteLimit": 2048000,
      "rowLimit": 10000
     },
     "inputWidgets": {},
     "nuid": "aa14fa57-393a-4c9d-9bc8-d23ae478ddb8",
     "showTitle": false,
     "title": ""
    }
   },
   "outputs": [
    {
     "output_type": "stream",
     "name": "stdout",
     "output_type": "stream",
     "text": [
      "+------------+-----------------+\n|   AccountNo|max(WithdrawlAmt)|\n+------------+-----------------+\n|409000405747|        170000000|\n|409000438611|        240000000|\n|409000611074|           912000|\n|409000425051|        354000000|\n|     1196711|        459447546|\n|409000493210|         15000000|\n|     1196428|        150000000|\n|409000493201|          2500000|\n|409000438620|        400000000|\n|409000362497|        141366239|\n+------------+-----------------+\n\n"
     ]
    }
   ],
   "source": [
    "# Find the Maximum withdrawal amount for each account\n",
    "df_t.groupBy('AccountNo').max('WithdrawlAmt').show()"
   ]
  },
  {
   "cell_type": "code",
   "execution_count": 0,
   "metadata": {
    "application/vnd.databricks.v1+cell": {
     "cellMetadata": {
      "byteLimit": 2048000,
      "rowLimit": 10000
     },
     "inputWidgets": {},
     "nuid": "7f2731c0-21a4-4920-b92e-c1dc860bb7ad",
     "showTitle": false,
     "title": ""
    }
   },
   "outputs": [
    {
     "output_type": "stream",
     "name": "stdout",
     "output_type": "stream",
     "text": [
      "+------------+-----------------+\n|   AccountNo|min(WithdrawlAmt)|\n+------------+-----------------+\n|409000405747|               21|\n|409000438611|                0|\n|409000611074|              120|\n|409000425051|                1|\n|     1196711|                0|\n|409000493210|                0|\n|     1196428|                0|\n|409000493201|                2|\n|409000438620|                0|\n|409000362497|                1|\n+------------+-----------------+\n\n"
     ]
    }
   ],
   "source": [
    "#MINIMUM WITHDRAWAL AMOUNT OF AN ACCOUNT\n",
    "df_t.groupBy('AccountNo').min('WithdrawlAmt').show()"
   ]
  },
  {
   "cell_type": "code",
   "execution_count": 0,
   "metadata": {
    "application/vnd.databricks.v1+cell": {
     "cellMetadata": {
      "byteLimit": 2048000,
      "rowLimit": 10000
     },
     "inputWidgets": {},
     "nuid": "ca8e4144-b340-4a60-a1b6-745a9c730708",
     "showTitle": false,
     "title": ""
    },
    "scrolled": true
   },
   "outputs": [
    {
     "output_type": "stream",
     "name": "stdout",
     "output_type": "stream",
     "text": [
      "+------------+---------------+\n|   AccountNo|max(DepositAmt)|\n+------------+---------------+\n|409000405747|      202100000|\n|409000438611|      170250000|\n|409000611074|        3000000|\n|409000425051|       15000000|\n|     1196711|      500000000|\n|409000493210|       15000000|\n|     1196428|      211959442|\n|409000493201|        1000000|\n|409000438620|      544800000|\n|409000362497|      200000000|\n+------------+---------------+\n\n"
     ]
    }
   ],
   "source": [
    "#MAXIMUM DEPOSIT AMOUNT OF AN ACCOUNT\n",
    "df_t.groupBy('AccountNo').max('DepositAmt').show()"
   ]
  },
  {
   "cell_type": "code",
   "execution_count": 0,
   "metadata": {
    "application/vnd.databricks.v1+cell": {
     "cellMetadata": {
      "byteLimit": 2048000,
      "rowLimit": 10000
     },
     "inputWidgets": {},
     "nuid": "96cbbb0e-9a46-48a8-b9c6-15755184f9a7",
     "showTitle": false,
     "title": ""
    }
   },
   "outputs": [
    {
     "output_type": "stream",
     "name": "stdout",
     "output_type": "stream",
     "text": [
      "+------------+---------------+\n|   AccountNo|min(DepositAmt)|\n+------------+---------------+\n|409000405747|            500|\n|409000438611|              0|\n|409000611074|           1320|\n|409000425051|              1|\n|     1196711|              1|\n|409000493210|              0|\n|     1196428|              1|\n|409000493201|              1|\n|409000438620|              0|\n|409000362497|              0|\n+------------+---------------+\n\n"
     ]
    }
   ],
   "source": [
    "#MINIMUM DEPOSIT AMOUNT OF AN ACCOUNT\n",
    "df_t.groupBy('AccountNo').min('DepositAmt').show()"
   ]
  },
  {
   "cell_type": "code",
   "execution_count": 0,
   "metadata": {
    "application/vnd.databricks.v1+cell": {
     "cellMetadata": {
      "byteLimit": 2048000,
      "rowLimit": 10000
     },
     "inputWidgets": {},
     "nuid": "b648785e-fade-4e86-8b10-c9dd250cfa4c",
     "showTitle": false,
     "title": ""
    }
   },
   "outputs": [
    {
     "output_type": "stream",
     "name": "stdout",
     "output_type": "stream",
     "text": [
      "+------------+---------------+\n|   AccountNo|sum(BalanceAmt)|\n+------------+---------------+\n|409000405747|   -24310804720|\n|409000438611| -2494865770883|\n|409000611074|     1615533622|\n|409000425051|    -3772118247|\n|     1196711|-16047649810122|\n|409000493210| -3275849521318|\n|     1196428|-81418498130721|\n|409000493201|     1042083205|\n|409000438620| -7122918680247|\n|409000362497|-52860004792808|\n+------------+---------------+\n\n"
     ]
    }
   ],
   "source": [
    "#sum of balance in every bank account\n",
    "df_t.groupBy('AccountNo').sum('BalanceAmt').show()"
   ]
  },
  {
   "cell_type": "code",
   "execution_count": 0,
   "metadata": {
    "application/vnd.databricks.v1+cell": {
     "cellMetadata": {
      "byteLimit": 2048000,
      "rowLimit": 10000
     },
     "inputWidgets": {},
     "nuid": "f420bf72-3ad9-42e5-8844-ef4b26167bdb",
     "showTitle": false,
     "title": ""
    },
    "scrolled": true
   },
   "outputs": [
    {
     "output_type": "stream",
     "name": "stdout",
     "output_type": "stream",
     "text": [
      "+----------+-----+\n| ValueDate|count|\n+----------+-----+\n|2018-05-28|   80|\n|2018-08-10|  216|\n|2017-08-11|  128|\n|2017-09-11|  109|\n|2016-03-01|  109|\n|2015-03-09|    8|\n|2015-05-19|   17|\n|2018-03-17|   50|\n|2018-06-06|   84|\n|2016-04-25|  161|\n|2017-01-06|  111|\n|2018-06-26|  117|\n|2018-08-08|  174|\n|2018-09-01|  194|\n|2018-10-05|  132|\n|2018-11-02|  121|\n|2016-07-26|   98|\n|2016-08-31|   74|\n|2016-10-03|   95|\n|2016-05-03|  105|\n+----------+-----+\nonly showing top 20 rows\n\n"
     ]
    }
   ],
   "source": [
    "#Number of transaction on each date\n",
    "df_t.groupBy('ValueDate').count().show()"
   ]
  },
  {
   "cell_type": "code",
   "execution_count": 0,
   "metadata": {
    "application/vnd.databricks.v1+cell": {
     "cellMetadata": {
      "byteLimit": 2048000,
      "rowLimit": 10000
     },
     "inputWidgets": {},
     "nuid": "7c609a97-e9be-4ca5-bd2d-182b8fe81766",
     "showTitle": false,
     "title": ""
    }
   },
   "outputs": [
    {
     "output_type": "stream",
     "name": "stdout",
     "output_type": "stream",
     "text": [
      "+------------+--------------------+------------+\n|   AccountNo|  TransactionDetails|WithdrawlAmt|\n+------------+--------------------+------------+\n|409000611074|INDO GIBL Indiafo...|      133900|\n|409000611074|INDO GIBL Indiafo...|      195800|\n|409000611074|INDO GIBL Indiafo...|      143800|\n|409000611074|INDO GIBL Indiafo...|      331650|\n|409000611074|INDO GIBL Indiafo...|      129000|\n|409000611074|INDO GIBL Indiafo...|      230013|\n|409000611074|INDO GIBL Indiafo...|      367900|\n|409000611074|INDO GIBL Indiafo...|      108000|\n|409000611074|INDO GIBL Indiafo...|      141000|\n|409000611074|INDO GIBL Indiafo...|      206000|\n|409000611074|INDO GIBL Indiafo...|      242300|\n|409000611074|INDO GIBL Indiafo...|      113250|\n|409000611074|INDO GIBL Indiafo...|      206900|\n|409000611074|INDO GIBL Indiafo...|      276000|\n|409000611074|INDO GIBL Indiafo...|      171000|\n|409000611074|INDO GIBL Indiafo...|      189800|\n|409000611074|INDO GIBL Indiafo...|      271323|\n|409000611074|INDO GIBL Indiafo...|      200600|\n|409000611074|INDO GIBL Indiafo...|      176900|\n|409000611074|INDO GIBL Indiafo...|      150050|\n+------------+--------------------+------------+\nonly showing top 20 rows\n\n"
     ]
    }
   ],
   "source": [
    "#List of customers with withdrawal amount more than 1 lakh\n",
    "df_t.filter(df_t.WithdrawlAmt > 100000).select('AccountNo', 'TransactionDetails', 'WithdrawlAmt').show()"
   ]
  }
 ],
 "metadata": {
  "application/vnd.databricks.v1+notebook": {
   "dashboards": [],
   "language": "python",
   "notebookMetadata": {
    "mostRecentlyExecutedCommandWithImplicitDF": {
     "commandId": 4216788375772675,
     "dataframes": [
      "_sqldf"
     ]
    },
    "pythonIndentUnit": 4
   },
   "notebookName": "banking_lab",
   "widgets": {}
  },
  "kernelspec": {
   "display_name": "Python 3",
   "language": "python",
   "name": "python3"
  },
  "language_info": {
   "codemirror_mode": {
    "name": "ipython",
    "version": 3
   },
   "file_extension": ".py",
   "mimetype": "text/x-python",
   "name": "python",
   "nbconvert_exporter": "python",
   "pygments_lexer": "ipython3",
   "version": "3.8.8"
  }
 },
 "nbformat": 4,
 "nbformat_minor": 0
}
